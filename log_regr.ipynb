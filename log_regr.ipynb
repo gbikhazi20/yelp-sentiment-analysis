{
 "cells": [
  {
   "cell_type": "code",
   "execution_count": 173,
   "metadata": {},
   "outputs": [],
   "source": [
    "import pandas as pd\n",
    "import numpy as np\n",
    "import nltk\n",
    "from sklearn.linear_model import LogisticRegression\n",
    "from sklearn.feature_extraction.text import TfidfVectorizer\n",
    "from sklearn.model_selection import train_test_split"
   ]
  },
  {
   "cell_type": "code",
   "execution_count": 98,
   "metadata": {},
   "outputs": [
    {
     "data": {
      "text/html": [
       "<div>\n",
       "<style scoped>\n",
       "    .dataframe tbody tr th:only-of-type {\n",
       "        vertical-align: middle;\n",
       "    }\n",
       "\n",
       "    .dataframe tbody tr th {\n",
       "        vertical-align: top;\n",
       "    }\n",
       "\n",
       "    .dataframe thead th {\n",
       "        text-align: right;\n",
       "    }\n",
       "</style>\n",
       "<table border=\"1\" class=\"dataframe\">\n",
       "  <thead>\n",
       "    <tr style=\"text-align: right;\">\n",
       "      <th></th>\n",
       "      <th>review_id</th>\n",
       "      <th>user_id</th>\n",
       "      <th>business_id</th>\n",
       "      <th>stars</th>\n",
       "      <th>useful</th>\n",
       "      <th>funny</th>\n",
       "      <th>cool</th>\n",
       "      <th>text</th>\n",
       "      <th>date</th>\n",
       "    </tr>\n",
       "  </thead>\n",
       "  <tbody>\n",
       "    <tr>\n",
       "      <th>0</th>\n",
       "      <td>oUVfM9ua2UtJ68sHKgCvNA</td>\n",
       "      <td>-YzMXeOVQfWAVXNAtMSbyw</td>\n",
       "      <td>dnQMntrmickWGYLB30KBEQ</td>\n",
       "      <td>4</td>\n",
       "      <td>0</td>\n",
       "      <td>0</td>\n",
       "      <td>0</td>\n",
       "      <td>Coffee is VERY good. My breakfast was a welcom...</td>\n",
       "      <td>2014-07-16 13:01:33</td>\n",
       "    </tr>\n",
       "    <tr>\n",
       "      <th>1</th>\n",
       "      <td>E7QcmW1jmB6T3HkSMdLGDA</td>\n",
       "      <td>jLNR8Tsvi47ENvoNfVYKiQ</td>\n",
       "      <td>4GGhj7Z99E5IYWdEqOsLUQ</td>\n",
       "      <td>5</td>\n",
       "      <td>0</td>\n",
       "      <td>0</td>\n",
       "      <td>0</td>\n",
       "      <td>I've been coming to this place for 18 years, a...</td>\n",
       "      <td>2019-04-16 20:17:17</td>\n",
       "    </tr>\n",
       "    <tr>\n",
       "      <th>2</th>\n",
       "      <td>GgGLzyl408biArY9oLGbRQ</td>\n",
       "      <td>392lRckiPvP-xTZ10E5RPw</td>\n",
       "      <td>c3QxX3toWdqJnKQmmIliRQ</td>\n",
       "      <td>2</td>\n",
       "      <td>0</td>\n",
       "      <td>0</td>\n",
       "      <td>0</td>\n",
       "      <td>This place is a bit overrated. It is very tren...</td>\n",
       "      <td>2021-05-02 23:53:15</td>\n",
       "    </tr>\n",
       "    <tr>\n",
       "      <th>3</th>\n",
       "      <td>B-EtTJZH45iCGWDNU36-1Q</td>\n",
       "      <td>OIa6ptM1qUts5arovQUAFQ</td>\n",
       "      <td>-QI8Qi8XWH3D8y8ethnajA</td>\n",
       "      <td>2</td>\n",
       "      <td>6</td>\n",
       "      <td>1</td>\n",
       "      <td>2</td>\n",
       "      <td>This is an older airport, and it reminded me a...</td>\n",
       "      <td>2018-04-13 15:51:03</td>\n",
       "    </tr>\n",
       "    <tr>\n",
       "      <th>4</th>\n",
       "      <td>RJb-x897_abr1CZDYiB1Xw</td>\n",
       "      <td>fwOETgbWmBAhdO9058e4Zg</td>\n",
       "      <td>C5ZOzlslhMxRJDjBDV3KoQ</td>\n",
       "      <td>5</td>\n",
       "      <td>0</td>\n",
       "      <td>0</td>\n",
       "      <td>0</td>\n",
       "      <td>Awesome. One of my favorites.  They have less ...</td>\n",
       "      <td>2016-03-27 18:29:16</td>\n",
       "    </tr>\n",
       "  </tbody>\n",
       "</table>\n",
       "</div>"
      ],
      "text/plain": [
       "                review_id                 user_id             business_id  \\\n",
       "0  oUVfM9ua2UtJ68sHKgCvNA  -YzMXeOVQfWAVXNAtMSbyw  dnQMntrmickWGYLB30KBEQ   \n",
       "1  E7QcmW1jmB6T3HkSMdLGDA  jLNR8Tsvi47ENvoNfVYKiQ  4GGhj7Z99E5IYWdEqOsLUQ   \n",
       "2  GgGLzyl408biArY9oLGbRQ  392lRckiPvP-xTZ10E5RPw  c3QxX3toWdqJnKQmmIliRQ   \n",
       "3  B-EtTJZH45iCGWDNU36-1Q  OIa6ptM1qUts5arovQUAFQ  -QI8Qi8XWH3D8y8ethnajA   \n",
       "4  RJb-x897_abr1CZDYiB1Xw  fwOETgbWmBAhdO9058e4Zg  C5ZOzlslhMxRJDjBDV3KoQ   \n",
       "\n",
       "   stars  useful  funny  cool  \\\n",
       "0      4       0      0     0   \n",
       "1      5       0      0     0   \n",
       "2      2       0      0     0   \n",
       "3      2       6      1     2   \n",
       "4      5       0      0     0   \n",
       "\n",
       "                                                text                date  \n",
       "0  Coffee is VERY good. My breakfast was a welcom... 2014-07-16 13:01:33  \n",
       "1  I've been coming to this place for 18 years, a... 2019-04-16 20:17:17  \n",
       "2  This place is a bit overrated. It is very tren... 2021-05-02 23:53:15  \n",
       "3  This is an older airport, and it reminded me a... 2018-04-13 15:51:03  \n",
       "4  Awesome. One of my favorites.  They have less ... 2016-03-27 18:29:16  "
      ]
     },
     "execution_count": 98,
     "metadata": {},
     "output_type": "execute_result"
    }
   ],
   "source": [
    "df = pd.read_json('yelp_academic_dataset_review_50k.json', lines=True)\n",
    "df.head()"
   ]
  },
  {
   "cell_type": "code",
   "execution_count": 99,
   "metadata": {},
   "outputs": [],
   "source": [
    "def build_subset(df, y, classes, distributions):\n",
    "    if len(classes) != len(distributions):\n",
    "        raise Exception('classes and distributions must be same length')\n",
    "    \n",
    "    dfs = []\n",
    "    for i in range(len(classes)):\n",
    "        dfs.append(df.loc[df[y] == classes[i]].sample(n=distributions[i]))\n",
    "\n",
    "    return pd.concat(dfs)"
   ]
  },
  {
   "cell_type": "code",
   "execution_count": 100,
   "metadata": {},
   "outputs": [],
   "source": [
    "df_12_345 = build_subset(df, 'stars', [1, 2, 3, 4, 5], [3800, 3800, 3800, 3800, 3800]) # make a dataset with all 5 star ratings, pulling 3800 samples from each rating\n",
    "df_12_45 = build_subset(df, 'stars', [1, 2, 4, 5], [3800, 3800, 3800, 3800]) # make a dataset only considering 1, 2, 4, 5 star ratings\n",
    "df_1_5 = build_subset(df, 'stars', [1, 5], [5500, 5500]) # make a dataset only considering 1 and 5 star ratings"
   ]
  },
  {
   "cell_type": "code",
   "execution_count": 101,
   "metadata": {},
   "outputs": [],
   "source": [
    "def sklearn_log_regr(df):\n",
    "    X = df[['text']]\n",
    "    y = df['stars'].replace([1, 2], 0).replace([3, 4, 5], 1)\n",
    "    X_train, X_test, y_train, y_test = train_test_split(\n",
    "        X, y, test_size=0.2, random_state=1)\n",
    "    \n",
    "    tfidf_vectorizer = TfidfVectorizer()\n",
    "    X_train_tfidf = tfidf_vectorizer.fit_transform(X_train.text)\n",
    "    X_test_tfidf = tfidf_vectorizer.transform(X_test.text)\n",
    "    log_regr = LogisticRegression()\n",
    "    log_regr.fit(X_train_tfidf, y_train)\n",
    "    train_accuracy = log_regr.score(X_train_tfidf, y_train)\n",
    "    test_accuracy = log_regr.score(X_test_tfidf, y_test)\n",
    "    return round(train_accuracy, 4), round(test_accuracy, 4)"
   ]
  },
  {
   "cell_type": "code",
   "execution_count": 103,
   "metadata": {},
   "outputs": [
    {
     "name": "stdout",
     "output_type": "stream",
     "text": [
      "Logistic regression train accuracy for classifying 1 to 2 stars and 3 to 5 stars : 0.9008\n",
      "Logistic regression test accuracy for classifying 1 to 2 stars and 3 to 5 stars : 0.8539\n"
     ]
    }
   ],
   "source": [
    "result_12_345 = sklearn_log_regr(df_12_345)\n",
    "print(\"Logistic regression train accuracy for classifying 1 to 2 stars and 3 to 5 stars :\", result_12_345[0])\n",
    "print(\"Logistic regression test accuracy for classifying 1 to 2 stars and 3 to 5 stars :\", result_12_345[1])"
   ]
  },
  {
   "cell_type": "code",
   "execution_count": 104,
   "metadata": {},
   "outputs": [
    {
     "name": "stdout",
     "output_type": "stream",
     "text": [
      "Logistic regression train accuracy for classifying 1 to 2 stars and 4 to 5 stars : 0.9496\n",
      "Logistic regression test accuracy for classifying 1 to 2 stars and 4 to 5 stars : 0.9227\n"
     ]
    }
   ],
   "source": [
    "result_12_45 = sklearn_log_regr(df_12_45)\n",
    "print(\"Logistic regression train accuracy for classifying 1 to 2 stars and 4 to 5 stars :\", result_12_45[0])\n",
    "print(\"Logistic regression test accuracy for classifying 1 to 2 stars and 4 to 5 stars :\", result_12_45[1])"
   ]
  },
  {
   "cell_type": "code",
   "execution_count": 105,
   "metadata": {},
   "outputs": [
    {
     "name": "stdout",
     "output_type": "stream",
     "text": [
      "Logistic regression train accuracy for classifying 1 star and 5 stars : 0.9782\n",
      "Logistic regression test accuracy for classifying 1 star and 5 stars : 0.9659\n"
     ]
    }
   ],
   "source": [
    "result_1_5 = sklearn_log_regr(df_1_5)\n",
    "print(\"Logistic regression train accuracy for classifying 1 star and 5 stars :\", result_1_5[0])\n",
    "print(\"Logistic regression test accuracy for classifying 1 star and 5 stars :\", result_1_5[1])"
   ]
  },
  {
   "cell_type": "code",
   "execution_count": 179,
   "metadata": {},
   "outputs": [
    {
     "name": "stderr",
     "output_type": "stream",
     "text": [
      "[nltk_data] Downloading package stopwords to\n",
      "[nltk_data]     /Users/achenji/nltk_data...\n",
      "[nltk_data]   Package stopwords is already up-to-date!\n"
     ]
    }
   ],
   "source": [
    "# Based on https://towardsdatascience.com/sentiment-analysis-using-logistic-regression-and-naive-bayes-16b806eb4c4b\n",
    "nltk.download('stopwords')\n",
    "\n",
    "def build_freqs(reviews, stars):\n",
    "    stopwords_english = stopwords.words('english') \n",
    "    stars_list = np.squeeze(stars).tolist()\n",
    "    \n",
    "    freqs = {}\n",
    "    for star, review in zip(stars_list, reviews.text):\n",
    "        for word in review.split():\n",
    "             if word not in stopwords_english:\n",
    "                pair = (word, star)\n",
    "                freqs[pair] = freqs.get(pair, 0) + 1\n",
    "\n",
    "    return freqs\n",
    "\n",
    "def sigmoid(z): \n",
    "    h = 1/(1 + np.exp(-np.clip(z, -500, 500)))\n",
    "    return h\n",
    "\n",
    "def gradientDescent(x, y, theta, alpha, num_iters):\n",
    "    m = len(x)\n",
    "  \n",
    "    for i in range(num_iters):\n",
    "        z = np.dot(x,theta)\n",
    "        h = sigmoid(z)\n",
    "        J = (-1/m)*(np.dot(y.T,np.log(h+alpha)) + np.dot((1-y).T,np.log(1-h+alpha)))\n",
    "        theta = theta - (alpha/m)*np.dot(x.T, h-y)\n",
    "    \n",
    "    J = float(J)\n",
    "    return J, theta\n",
    "\n",
    "def extract_features(review, freqs):   \n",
    "    feature = np.zeros((1, 3)) \n",
    "    feature[0,0] = 1        \n",
    "    for word in review.split():\n",
    "        feature[0,1] += freqs.get((word,1),0)\n",
    "        feature[0,2] += freqs.get((word,0),0)\n",
    "\n",
    "    return feature\n",
    "\n",
    "def predict_review(review, freqs, theta):\n",
    "    x = extract_features(review, freqs)\n",
    "    z = np.dot(x,theta)\n",
    "    y_pred = sigmoid(z)\n",
    "    return y_pred\n",
    "\n",
    "def prediction_accuracy(x, y, freqs, theta):\n",
    "    y_hat = []\n",
    "    \n",
    "    for review in x:\n",
    "        y_pred = predict_review(review, freqs, theta)\n",
    "        \n",
    "        if y_pred > 0.5:\n",
    "            y_hat.append(1)\n",
    "        else:\n",
    "            y_hat.append(0)\n",
    "\n",
    "    y_hat = np.array(y_hat)\n",
    "    accuracy = np.sum((y == y_hat).astype(int))/len(x)    \n",
    "    return round(accuracy, 4)\n"
   ]
  },
  {
   "cell_type": "code",
   "execution_count": 192,
   "metadata": {},
   "outputs": [],
   "source": [
    "def log_regr(df):\n",
    "    X = df[['text']]\n",
    "    y = df['stars'].replace([1, 2], 0).replace([3, 4, 5], 1)\n",
    "    X_train, X_test, y_train, y_test = train_test_split(\n",
    "        X, y, test_size=0.2, random_state=1)\n",
    "\n",
    "    freqs = build_freqs(X_train, y_train)\n",
    "\n",
    "    X_train_list = X_train.text.tolist()\n",
    "    y_train_list = y_train.values.reshape(-1, 1)\n",
    "\n",
    "    X_train_features = np.zeros((len(X_train_list), 3))\n",
    "    for i in range(len(X_train_list)):\n",
    "        X_train_features[i, :]= extract_features(X_train_list[i], freqs)\n",
    "\n",
    "    J, theta = gradientDescent(X_train_features, y_train_list, np.zeros((3, 1)), 1e-10, 100000)\n",
    "\n",
    "    y_train_list = y_train.values.reshape(-1)\n",
    "    X_test_list = X_test.text.tolist()\n",
    "    y_test_list = y_test.values.reshape(-1)\n",
    "\n",
    "    train_accuracy = prediction_accuracy(X_train_list, y_train_list, freqs, theta)\n",
    "    test_accuracy = prediction_accuracy(X_test_list, y_test_list, freqs, theta)\n",
    "    return train_accuracy, test_accuracy"
   ]
  },
  {
   "cell_type": "code",
   "execution_count": 191,
   "metadata": {},
   "outputs": [
    {
     "name": "stdout",
     "output_type": "stream",
     "text": [
      "Logistic regression train accuracy for classifying 1 to 2 stars and 3 to 5 stars : 0.7099\n",
      "Logistic regression test accuracy for classifying 1 to 2 stars and 3 to 5 stars : 0.7045\n"
     ]
    }
   ],
   "source": [
    "result_12_345 = log_regr(df_12_345)\n",
    "print(\"Logistic regression train accuracy for classifying 1 to 2 stars and 3 to 5 stars :\", result_12_345[0])\n",
    "print(\"Logistic regression test accuracy for classifying 1 to 2 stars and 3 to 5 stars :\", result_12_345[1])"
   ]
  },
  {
   "cell_type": "code",
   "execution_count": 193,
   "metadata": {},
   "outputs": [
    {
     "name": "stdout",
     "output_type": "stream",
     "text": [
      "Logistic regression train accuracy for classifying 1 to 2 stars and 4 to 5 stars : 0.6882\n",
      "Logistic regression test accuracy for classifying 1 to 2 stars and 4 to 5 stars : 0.6891\n"
     ]
    }
   ],
   "source": [
    "result_12_45 = log_regr(df_12_45)\n",
    "print(\"Logistic regression train accuracy for classifying 1 to 2 stars and 4 to 5 stars :\", result_12_45[0])\n",
    "print(\"Logistic regression test accuracy for classifying 1 to 2 stars and 4 to 5 stars :\", result_12_45[1])"
   ]
  },
  {
   "cell_type": "code",
   "execution_count": 194,
   "metadata": {},
   "outputs": [
    {
     "name": "stdout",
     "output_type": "stream",
     "text": [
      "Logistic regression train accuracy for classifying 1 star and 5 stars : 0.751\n",
      "Logistic regression test accuracy for classifying 1 star and 5 stars : 0.7391\n"
     ]
    }
   ],
   "source": [
    "result_1_5 = log_regr(df_1_5)\n",
    "print(\"Logistic regression train accuracy for classifying 1 star and 5 stars :\", result_1_5[0])\n",
    "print(\"Logistic regression test accuracy for classifying 1 star and 5 stars :\", result_1_5[1])"
   ]
  }
 ],
 "metadata": {
  "kernelspec": {
   "display_name": "my_env",
   "language": "python",
   "name": "python3"
  },
  "language_info": {
   "codemirror_mode": {
    "name": "ipython",
    "version": 3
   },
   "file_extension": ".py",
   "mimetype": "text/x-python",
   "name": "python",
   "nbconvert_exporter": "python",
   "pygments_lexer": "ipython3",
   "version": "3.10.10"
  },
  "orig_nbformat": 4
 },
 "nbformat": 4,
 "nbformat_minor": 2
}
