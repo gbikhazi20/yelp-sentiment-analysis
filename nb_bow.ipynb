{
 "cells": [
  {
   "attachments": {},
   "cell_type": "markdown",
   "metadata": {},
   "source": [
    "# Naive Bayes Bag-of-Words Classifier Implementation"
   ]
  },
  {
   "cell_type": "code",
   "execution_count": 72,
   "metadata": {},
   "outputs": [],
   "source": [
    "import pandas as pd\n",
    "import numpy as np\n",
    "from sklearn.feature_extraction.text import CountVectorizer\n",
    "from sklearn.model_selection import train_test_split"
   ]
  },
  {
   "cell_type": "code",
   "execution_count": 94,
   "metadata": {},
   "outputs": [
    {
     "data": {
      "text/html": [
       "<div>\n",
       "<style scoped>\n",
       "    .dataframe tbody tr th:only-of-type {\n",
       "        vertical-align: middle;\n",
       "    }\n",
       "\n",
       "    .dataframe tbody tr th {\n",
       "        vertical-align: top;\n",
       "    }\n",
       "\n",
       "    .dataframe thead th {\n",
       "        text-align: right;\n",
       "    }\n",
       "</style>\n",
       "<table border=\"1\" class=\"dataframe\">\n",
       "  <thead>\n",
       "    <tr style=\"text-align: right;\">\n",
       "      <th></th>\n",
       "      <th>review_id</th>\n",
       "      <th>user_id</th>\n",
       "      <th>business_id</th>\n",
       "      <th>stars</th>\n",
       "      <th>useful</th>\n",
       "      <th>funny</th>\n",
       "      <th>cool</th>\n",
       "      <th>text</th>\n",
       "      <th>date</th>\n",
       "    </tr>\n",
       "  </thead>\n",
       "  <tbody>\n",
       "    <tr>\n",
       "      <th>0</th>\n",
       "      <td>oUVfM9ua2UtJ68sHKgCvNA</td>\n",
       "      <td>-YzMXeOVQfWAVXNAtMSbyw</td>\n",
       "      <td>dnQMntrmickWGYLB30KBEQ</td>\n",
       "      <td>4</td>\n",
       "      <td>0</td>\n",
       "      <td>0</td>\n",
       "      <td>0</td>\n",
       "      <td>Coffee is VERY good. My breakfast was a welcom...</td>\n",
       "      <td>2014-07-16 13:01:33</td>\n",
       "    </tr>\n",
       "    <tr>\n",
       "      <th>1</th>\n",
       "      <td>E7QcmW1jmB6T3HkSMdLGDA</td>\n",
       "      <td>jLNR8Tsvi47ENvoNfVYKiQ</td>\n",
       "      <td>4GGhj7Z99E5IYWdEqOsLUQ</td>\n",
       "      <td>5</td>\n",
       "      <td>0</td>\n",
       "      <td>0</td>\n",
       "      <td>0</td>\n",
       "      <td>I've been coming to this place for 18 years, a...</td>\n",
       "      <td>2019-04-16 20:17:17</td>\n",
       "    </tr>\n",
       "    <tr>\n",
       "      <th>2</th>\n",
       "      <td>GgGLzyl408biArY9oLGbRQ</td>\n",
       "      <td>392lRckiPvP-xTZ10E5RPw</td>\n",
       "      <td>c3QxX3toWdqJnKQmmIliRQ</td>\n",
       "      <td>2</td>\n",
       "      <td>0</td>\n",
       "      <td>0</td>\n",
       "      <td>0</td>\n",
       "      <td>This place is a bit overrated. It is very tren...</td>\n",
       "      <td>2021-05-02 23:53:15</td>\n",
       "    </tr>\n",
       "    <tr>\n",
       "      <th>3</th>\n",
       "      <td>B-EtTJZH45iCGWDNU36-1Q</td>\n",
       "      <td>OIa6ptM1qUts5arovQUAFQ</td>\n",
       "      <td>-QI8Qi8XWH3D8y8ethnajA</td>\n",
       "      <td>2</td>\n",
       "      <td>6</td>\n",
       "      <td>1</td>\n",
       "      <td>2</td>\n",
       "      <td>This is an older airport, and it reminded me a...</td>\n",
       "      <td>2018-04-13 15:51:03</td>\n",
       "    </tr>\n",
       "    <tr>\n",
       "      <th>4</th>\n",
       "      <td>RJb-x897_abr1CZDYiB1Xw</td>\n",
       "      <td>fwOETgbWmBAhdO9058e4Zg</td>\n",
       "      <td>C5ZOzlslhMxRJDjBDV3KoQ</td>\n",
       "      <td>5</td>\n",
       "      <td>0</td>\n",
       "      <td>0</td>\n",
       "      <td>0</td>\n",
       "      <td>Awesome. One of my favorites.  They have less ...</td>\n",
       "      <td>2016-03-27 18:29:16</td>\n",
       "    </tr>\n",
       "  </tbody>\n",
       "</table>\n",
       "</div>"
      ],
      "text/plain": [
       "                review_id                 user_id             business_id  \\\n",
       "0  oUVfM9ua2UtJ68sHKgCvNA  -YzMXeOVQfWAVXNAtMSbyw  dnQMntrmickWGYLB30KBEQ   \n",
       "1  E7QcmW1jmB6T3HkSMdLGDA  jLNR8Tsvi47ENvoNfVYKiQ  4GGhj7Z99E5IYWdEqOsLUQ   \n",
       "2  GgGLzyl408biArY9oLGbRQ  392lRckiPvP-xTZ10E5RPw  c3QxX3toWdqJnKQmmIliRQ   \n",
       "3  B-EtTJZH45iCGWDNU36-1Q  OIa6ptM1qUts5arovQUAFQ  -QI8Qi8XWH3D8y8ethnajA   \n",
       "4  RJb-x897_abr1CZDYiB1Xw  fwOETgbWmBAhdO9058e4Zg  C5ZOzlslhMxRJDjBDV3KoQ   \n",
       "\n",
       "   stars  useful  funny  cool  \\\n",
       "0      4       0      0     0   \n",
       "1      5       0      0     0   \n",
       "2      2       0      0     0   \n",
       "3      2       6      1     2   \n",
       "4      5       0      0     0   \n",
       "\n",
       "                                                text                date  \n",
       "0  Coffee is VERY good. My breakfast was a welcom... 2014-07-16 13:01:33  \n",
       "1  I've been coming to this place for 18 years, a... 2019-04-16 20:17:17  \n",
       "2  This place is a bit overrated. It is very tren... 2021-05-02 23:53:15  \n",
       "3  This is an older airport, and it reminded me a... 2018-04-13 15:51:03  \n",
       "4  Awesome. One of my favorites.  They have less ... 2016-03-27 18:29:16  "
      ]
     },
     "execution_count": 94,
     "metadata": {},
     "output_type": "execute_result"
    }
   ],
   "source": [
    "df = pd.read_json('yelp_data/yelp_academic_dataset_review_50k.json', lines=True)\n",
    "df.head()"
   ]
  },
  {
   "cell_type": "code",
   "execution_count": 95,
   "metadata": {},
   "outputs": [
    {
     "data": {
      "image/png": "[encoded data removed]",
      "text/plain": [
       "<Figure size 432x288 with 1 Axes>"
      ]
     },
     "metadata": {
      "needs_background": "light"
     },
     "output_type": "display_data"
    }
   ],
   "source": [
    "def plot_df_category_freq(df):\n",
    "    stars = [1, 2, 3, 4, 5]\n",
    "    num_reviews = []\n",
    "    for star in stars:\n",
    "        num_reviews.append(len(df.loc[df.stars == star]))\n",
    "\n",
    "    from matplotlib import pyplot\n",
    "    pyplot.bar(stars, num_reviews)\n",
    "\n",
    "plot_df_category_freq(df)"
   ]
  },
  {
   "cell_type": "code",
   "execution_count": 96,
   "metadata": {},
   "outputs": [],
   "source": [
    "def build_subset(df, y, classes, distributions):\n",
    "    if len(classes) != len(distributions):\n",
    "        raise Exception('classes and distributions must be same length')\n",
    "    \n",
    "    dfs = []\n",
    "    for i in range(len(classes)):\n",
    "        dfs.append(df.loc[df[y] == classes[i]].sample(n=distributions[i]))\n",
    "\n",
    "    return pd.concat(dfs)\n"
   ]
  },
  {
   "cell_type": "code",
   "execution_count": 97,
   "metadata": {},
   "outputs": [],
   "source": [
    "# different options for df_s\n",
    "# df_s = build_subset(df, 'stars', [1, 2, 3, 4, 5], [3800, 3800, 3800, 3800, 3800]) # make a dataset with all 5 star ratings, pulling 3800 samples from each rating\n",
    "# df_s = build_subset(df, 'stars', [1, 2, 4, 5], [3800, 3800, 3800, 3800]) # make a dataset only considering 1, 2, 4, 5 star ratings\n",
    "df_s = build_subset(df, 'stars', [1, 5], [5500, 5500]) # make a dataset only considering 1 and 5 star ratings"
   ]
  },
  {
   "cell_type": "code",
   "execution_count": 98,
   "metadata": {},
   "outputs": [
    {
     "data": {
      "image/png": "[encoded data removed]",
      "text/plain": [
       "<Figure size 432x288 with 1 Axes>"
      ]
     },
     "metadata": {
      "needs_background": "light"
     },
     "output_type": "display_data"
    }
   ],
   "source": [
    "# now each category has same # of samples\n",
    "plot_df_category_freq(df_s)"
   ]
  },
  {
   "cell_type": "code",
   "execution_count": 99,
   "metadata": {},
   "outputs": [],
   "source": [
    "X = df_s[['text']]\n",
    "y = df_s['stars'].replace([1, 2],0).replace([3, 4, 5], 1)"
   ]
  },
  {
   "cell_type": "code",
   "execution_count": null,
   "metadata": {},
   "outputs": [],
   "source": [
    "X_train, X_test, y_train, y_test = train_test_split(\n",
    "    X, y, test_size=0.2, random_state=1)"
   ]
  },
  {
   "cell_type": "code",
   "execution_count": 79,
   "metadata": {},
   "outputs": [],
   "source": [
    "class NaiveBayesBoWClassifier:\n",
    "    def __all_vocab(self, X_train):\n",
    "        vocab = []\n",
    "        for i in range(len(X_train)):\n",
    "            vocab.append(X_train.iloc[i].text)\n",
    "\n",
    "        return CountVectorizer().fit(vocab).vocabulary_\n",
    "    \n",
    "    def __class_vocab(self, X_train, y_train):\n",
    "        df = pd.concat([X_train, y_train], axis=1)\n",
    "\n",
    "        category_words = {}\n",
    "        for i in range(len(df)):\n",
    "            row = df.iloc[i]\n",
    "            if row.stars not in category_words:\n",
    "                category_words[row.stars] = [row.text]\n",
    "            else:\n",
    "                category_words[row.stars].append(row.text)\n",
    "\n",
    "        category_vocab = {}\n",
    "        for category in category_words.keys():\n",
    "            category_vocab[category] = CountVectorizer().fit(\n",
    "                category_words[category]).vocabulary_\n",
    "\n",
    "        return category_vocab\n",
    "    \n",
    "    def __cat_vocab_count(self, cat_vocab):\n",
    "        n_words_in_class = {}\n",
    "        for cat in cat_vocab.keys():\n",
    "            n_words_in_class[cat] = 0\n",
    "            for word in cat_vocab[cat].keys():\n",
    "                n_words_in_class[cat] += cat_vocab[cat][word]\n",
    "        return n_words_in_class\n",
    "\n",
    "    # alpha is for smoothing, default is Laplace (alpha=1)\n",
    "    def fit(self, X_train, y_train, alpha=1):\n",
    "        # bag of words for all reviews\n",
    "        doc_vocab = self.__all_vocab(X_train)\n",
    "        # bag of words per review category (# stars)\n",
    "        cat_vocab = self.__class_vocab(X_train, y_train)\n",
    "        self.categories = cat_vocab.keys()\n",
    "        # for each category c contains P(c)\n",
    "        log_prior = {}\n",
    "        # P(w|c) for every word, class\n",
    "        log_likelihood = {}\n",
    "        # class: # words in class vocab\n",
    "        n_words_in_cat = self.__cat_vocab_count(cat_vocab)\n",
    "        for cat in cat_vocab.keys():                    # for every classification category\n",
    "            # total number of documents (reviews)\n",
    "            n_doc = len(X_train)\n",
    "            # number of documents with category cat\n",
    "            n_c = len(y_train.loc[y_train == cat])\n",
    "            # log probability that a document is of this category P(c)\n",
    "            log_prior[cat] = np.log(n_c/n_doc)\n",
    "\n",
    "            for word in doc_vocab.keys():               # for every word seen across all documents\n",
    "                count_w_c = 0\n",
    "                if word in cat_vocab[cat]:\n",
    "                    # num times word was seen in current category (cat)\n",
    "                    count_w_c = cat_vocab[cat][word]\n",
    "                log_likelihood[(word, cat)] =               \\\n",
    "                    np.log((count_w_c+alpha) /\n",
    "                        (n_words_in_cat[cat]+alpha))\n",
    "\n",
    "        self.log_prior = log_prior\n",
    "        self.log_likelihood = log_likelihood\n",
    "        self.vocab = doc_vocab\n",
    "        \n",
    "        return self\n",
    "\n",
    "    def predict(self, X_test):\n",
    "        predictions = []\n",
    "        for i in range(len(X_test)):\n",
    "            sample = X_test.iloc[i]\n",
    "            sum = {}\n",
    "            for cat in self.categories:\n",
    "                sum[cat] = self.log_prior[cat]\n",
    "\n",
    "                for word in CountVectorizer().fit([sample.text]).vocabulary_.keys():\n",
    "                    if word in self.vocab:\n",
    "                        sum[cat] += self.log_likelihood[(word, cat)]\n",
    "\n",
    "            max = np.NINF\n",
    "            max_cat = -1\n",
    "            for cat in sum:\n",
    "                if sum[cat] > max:\n",
    "                    max = sum[cat]\n",
    "                    max_cat = cat\n",
    "\n",
    "            if max_cat == -1:\n",
    "                raise Exception('category not found')\n",
    "\n",
    "            predictions.append(max_cat)\n",
    "\n",
    "        return pd.Series(predictions)\n",
    "    \n",
    "    def score(self, true, pred):\n",
    "        if len(true) != len(pred):\n",
    "            raise Exception('True and Pred arrays not same size')\n",
    "        \n",
    "        correct = 0\n",
    "        for i in range(len(pred)):\n",
    "            if pred.iloc[i] == true.iloc[i]:\n",
    "                correct += 1\n",
    "\n",
    "        return correct/len(true)\n"
   ]
  },
  {
   "cell_type": "code",
   "execution_count": 10,
   "metadata": {},
   "outputs": [
    {
     "data": {
      "text/plain": [
       "0.7172727272727273"
      ]
     },
     "execution_count": 10,
     "metadata": {},
     "output_type": "execute_result"
    }
   ],
   "source": [
    "nb = NaiveBayesBoWClassifier().fit(X_train, y_train)\n",
    "pred = nb.predict(X_test)\n",
    "nb.score(y_test, pred)"
   ]
  },
  {
   "cell_type": "code",
   "execution_count": 91,
   "metadata": {},
   "outputs": [],
   "source": [
    "def preprocess_not(sample):\n",
    "    if (\"n\\'t\" not in sample) and (\"not\" not in sample):\n",
    "        return sample\n",
    "    \n",
    "    tokens = sample.split()\n",
    "    s = ''\n",
    "    i = 0\n",
    "    while i < len(tokens):\n",
    "        token = tokens[i]\n",
    "        if 'not' == token or 'n\\'t' in token:\n",
    "            s += f'{tokens[i]} '\n",
    "            for w in range(i+1, len(tokens)):\n",
    "                s += f'NOT_{tokens[w]} '\n",
    "                if '.' in tokens[w]:\n",
    "                    break\n",
    "                i += 1\n",
    "            i += 1\n",
    "        else:\n",
    "            s += f'{tokens[i]} '\n",
    "\n",
    "        i+=1\n",
    "\n",
    "    return s\n"
   ]
  },
  {
   "cell_type": "code",
   "execution_count": 100,
   "metadata": {},
   "outputs": [],
   "source": [
    "for i in range(len(X)):\n",
    "    X.iloc[i].text = preprocess_not(X.iloc[i].text)"
   ]
  },
  {
   "cell_type": "code",
   "execution_count": 101,
   "metadata": {},
   "outputs": [],
   "source": [
    "X_train, X_test, y_train, y_test = train_test_split(\n",
    "    X, y, test_size=0.2, random_state=1)"
   ]
  },
  {
   "cell_type": "code",
   "execution_count": 102,
   "metadata": {},
   "outputs": [
    {
     "data": {
      "text/plain": [
       "0.7109090909090909"
      ]
     },
     "execution_count": 102,
     "metadata": {},
     "output_type": "execute_result"
    }
   ],
   "source": [
    "nb = NaiveBayesBoWClassifier().fit(X_train, y_train)\n",
    "\n",
    "pred = nb.predict(X_test)\n",
    "\n",
    "nb.score(y_test, pred)"
   ]
  },
  {
   "cell_type": "code",
   "execution_count": 71,
   "metadata": {},
   "outputs": [
    {
     "data": {
      "text/plain": [
       "\"The pizza was gross. It was not NOT_hot NOT_or NOT_tasty. It wasn't NOT_yummy NOT_at NOT_all. So bad \""
      ]
     },
     "execution_count": 71,
     "metadata": {},
     "output_type": "execute_result"
    }
   ],
   "source": [
    "preprocess_not('The pizza was gross. It was not hot or tasty. It wasn\\'t yummy at all. So bad')"
   ]
  },
  {
   "cell_type": "code",
   "execution_count": null,
   "metadata": {},
   "outputs": [],
   "source": []
  }
 ],
 "metadata": {
  "kernelspec": {
   "display_name": "Python 3",
   "language": "python",
   "name": "python3"
  },
  "language_info": {
   "codemirror_mode": {
    "name": "ipython",
    "version": 3
   },
   "file_extension": ".py",
   "mimetype": "text/x-python",
   "name": "python",
   "nbconvert_exporter": "python",
   "pygments_lexer": "ipython3",
   "version": "3.9.6"
  },
  "orig_nbformat": 4
 },
 "nbformat": 4,
 "nbformat_minor": 2
}
