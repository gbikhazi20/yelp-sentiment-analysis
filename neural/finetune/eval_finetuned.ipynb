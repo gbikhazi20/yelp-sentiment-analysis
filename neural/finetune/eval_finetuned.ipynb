{
 "cells": [
  {
   "attachments": {},
   "cell_type": "markdown",
   "metadata": {},
   "source": [
    "# Testing Finetuned Bert on Yelp Data"
   ]
  },
  {
   "cell_type": "code",
   "execution_count": 1,
   "metadata": {},
   "outputs": [
    {
     "name": "stderr",
     "output_type": "stream",
     "text": [
      "C:\\Users\\georg\\AppData\\Roaming\\Python\\Python39\\site-packages\\tqdm\\auto.py:21: TqdmWarning: IProgress not found. Please update jupyter and ipywidgets. See https://ipywidgets.readthedocs.io/en/stable/user_install.html\n",
      "  from .autonotebook import tqdm as notebook_tqdm\n"
     ]
    }
   ],
   "source": [
    "from transformers import AutoModelForSequenceClassification\n",
    "\n",
    "path = './finetuned_bert'\n",
    "model = AutoModelForSequenceClassification.from_pretrained(path, local_files_only=True)"
   ]
  },
  {
   "cell_type": "code",
   "execution_count": 2,
   "metadata": {},
   "outputs": [],
   "source": [
    "from transformers import AutoTokenizer\n",
    "tokenizer = AutoTokenizer.from_pretrained(\"bert-base-cased\")"
   ]
  },
  {
   "cell_type": "code",
   "execution_count": 3,
   "metadata": {},
   "outputs": [],
   "source": [
    "raw_inputs = [\n",
    "    \"I am pretty indifferent about the movie. I didn't hate it and I didn't love it.\",\n",
    "    \"Joe's Pizza is the best!!! You have to check it out if you're in town.\",\n",
    "    \"This supermarket is the absolute WORST. They didn't have any oreos!\"\n",
    "]\n",
    "inputs = tokenizer(raw_inputs, padding=True,\n",
    "                   truncation=True, return_tensors=\"pt\")\n"
   ]
  },
  {
   "cell_type": "code",
   "execution_count": 4,
   "metadata": {},
   "outputs": [
    {
     "data": {
      "text/plain": [
       "SequenceClassifierOutput(loss=None, logits=tensor([[-0.8890,  3.0487,  1.8772, -1.4140, -2.4633],\n",
       "        [-2.9113, -2.4303, -0.6465,  2.5758,  3.4966],\n",
       "        [ 4.6360,  0.5701, -1.4783, -1.8714, -0.9393]],\n",
       "       grad_fn=<AddmmBackward>), hidden_states=None, attentions=None)"
      ]
     },
     "execution_count": 4,
     "metadata": {},
     "output_type": "execute_result"
    }
   ],
   "source": [
    "model(**inputs)"
   ]
  },
  {
   "cell_type": "code",
   "execution_count": 5,
   "metadata": {},
   "outputs": [
    {
     "data": {
      "text/html": [
       "<div>\n",
       "<style scoped>\n",
       "    .dataframe tbody tr th:only-of-type {\n",
       "        vertical-align: middle;\n",
       "    }\n",
       "\n",
       "    .dataframe tbody tr th {\n",
       "        vertical-align: top;\n",
       "    }\n",
       "\n",
       "    .dataframe thead th {\n",
       "        text-align: right;\n",
       "    }\n",
       "</style>\n",
       "<table border=\"1\" class=\"dataframe\">\n",
       "  <thead>\n",
       "    <tr style=\"text-align: right;\">\n",
       "      <th></th>\n",
       "      <th>review_id</th>\n",
       "      <th>user_id</th>\n",
       "      <th>business_id</th>\n",
       "      <th>stars</th>\n",
       "      <th>useful</th>\n",
       "      <th>funny</th>\n",
       "      <th>cool</th>\n",
       "      <th>text</th>\n",
       "      <th>date</th>\n",
       "    </tr>\n",
       "  </thead>\n",
       "  <tbody>\n",
       "    <tr>\n",
       "      <th>0</th>\n",
       "      <td>oUVfM9ua2UtJ68sHKgCvNA</td>\n",
       "      <td>-YzMXeOVQfWAVXNAtMSbyw</td>\n",
       "      <td>dnQMntrmickWGYLB30KBEQ</td>\n",
       "      <td>4</td>\n",
       "      <td>0</td>\n",
       "      <td>0</td>\n",
       "      <td>0</td>\n",
       "      <td>Coffee is VERY good. My breakfast was a welcom...</td>\n",
       "      <td>2014-07-16 13:01:33</td>\n",
       "    </tr>\n",
       "    <tr>\n",
       "      <th>1</th>\n",
       "      <td>E7QcmW1jmB6T3HkSMdLGDA</td>\n",
       "      <td>jLNR8Tsvi47ENvoNfVYKiQ</td>\n",
       "      <td>4GGhj7Z99E5IYWdEqOsLUQ</td>\n",
       "      <td>5</td>\n",
       "      <td>0</td>\n",
       "      <td>0</td>\n",
       "      <td>0</td>\n",
       "      <td>I've been coming to this place for 18 years, a...</td>\n",
       "      <td>2019-04-16 20:17:17</td>\n",
       "    </tr>\n",
       "    <tr>\n",
       "      <th>2</th>\n",
       "      <td>GgGLzyl408biArY9oLGbRQ</td>\n",
       "      <td>392lRckiPvP-xTZ10E5RPw</td>\n",
       "      <td>c3QxX3toWdqJnKQmmIliRQ</td>\n",
       "      <td>2</td>\n",
       "      <td>0</td>\n",
       "      <td>0</td>\n",
       "      <td>0</td>\n",
       "      <td>This place is a bit overrated. It is very tren...</td>\n",
       "      <td>2021-05-02 23:53:15</td>\n",
       "    </tr>\n",
       "    <tr>\n",
       "      <th>3</th>\n",
       "      <td>B-EtTJZH45iCGWDNU36-1Q</td>\n",
       "      <td>OIa6ptM1qUts5arovQUAFQ</td>\n",
       "      <td>-QI8Qi8XWH3D8y8ethnajA</td>\n",
       "      <td>2</td>\n",
       "      <td>6</td>\n",
       "      <td>1</td>\n",
       "      <td>2</td>\n",
       "      <td>This is an older airport, and it reminded me a...</td>\n",
       "      <td>2018-04-13 15:51:03</td>\n",
       "    </tr>\n",
       "    <tr>\n",
       "      <th>4</th>\n",
       "      <td>RJb-x897_abr1CZDYiB1Xw</td>\n",
       "      <td>fwOETgbWmBAhdO9058e4Zg</td>\n",
       "      <td>C5ZOzlslhMxRJDjBDV3KoQ</td>\n",
       "      <td>5</td>\n",
       "      <td>0</td>\n",
       "      <td>0</td>\n",
       "      <td>0</td>\n",
       "      <td>Awesome. One of my favorites.  They have less ...</td>\n",
       "      <td>2016-03-27 18:29:16</td>\n",
       "    </tr>\n",
       "  </tbody>\n",
       "</table>\n",
       "</div>"
      ],
      "text/plain": [
       "                review_id                 user_id             business_id  \\\n",
       "0  oUVfM9ua2UtJ68sHKgCvNA  -YzMXeOVQfWAVXNAtMSbyw  dnQMntrmickWGYLB30KBEQ   \n",
       "1  E7QcmW1jmB6T3HkSMdLGDA  jLNR8Tsvi47ENvoNfVYKiQ  4GGhj7Z99E5IYWdEqOsLUQ   \n",
       "2  GgGLzyl408biArY9oLGbRQ  392lRckiPvP-xTZ10E5RPw  c3QxX3toWdqJnKQmmIliRQ   \n",
       "3  B-EtTJZH45iCGWDNU36-1Q  OIa6ptM1qUts5arovQUAFQ  -QI8Qi8XWH3D8y8ethnajA   \n",
       "4  RJb-x897_abr1CZDYiB1Xw  fwOETgbWmBAhdO9058e4Zg  C5ZOzlslhMxRJDjBDV3KoQ   \n",
       "\n",
       "   stars  useful  funny  cool  \\\n",
       "0      4       0      0     0   \n",
       "1      5       0      0     0   \n",
       "2      2       0      0     0   \n",
       "3      2       6      1     2   \n",
       "4      5       0      0     0   \n",
       "\n",
       "                                                text                date  \n",
       "0  Coffee is VERY good. My breakfast was a welcom... 2014-07-16 13:01:33  \n",
       "1  I've been coming to this place for 18 years, a... 2019-04-16 20:17:17  \n",
       "2  This place is a bit overrated. It is very tren... 2021-05-02 23:53:15  \n",
       "3  This is an older airport, and it reminded me a... 2018-04-13 15:51:03  \n",
       "4  Awesome. One of my favorites.  They have less ... 2016-03-27 18:29:16  "
      ]
     },
     "execution_count": 5,
     "metadata": {},
     "output_type": "execute_result"
    }
   ],
   "source": [
    "import pandas as pd\n",
    "\n",
    "path = '../data/yelp_data/yelp_academic_dataset_review_50k.json'\n",
    "df = pd.read_json(path, lines=True)\n",
    "df.head()"
   ]
  },
  {
   "cell_type": "code",
   "execution_count": 6,
   "metadata": {},
   "outputs": [],
   "source": [
    "import random\n",
    "\n",
    "subset = random.sample(range(0, 50_000), 500)"
   ]
  },
  {
   "cell_type": "code",
   "execution_count": 7,
   "metadata": {},
   "outputs": [
    {
     "data": {
      "text/plain": [
       "1956     Such good food!!!! Love this place for breakfa...\n",
       "37823    Sunday. Gravy. Little Nonna's makes this amazi...\n",
       "40292    Thai Star sushi is a great addition to Madeira...\n",
       "20525    I had the most positively horrible experience ...\n",
       "27741    Simple breakfast with a few unique offerings. ...\n",
       "                               ...                        \n",
       "16233    For all of those people that reviewed this pla...\n",
       "6625     We love Buffalo Wild Wings and were so excited...\n",
       "42732    We were absolutely disappointed.  It was our f...\n",
       "749      I'm in pretty good shape, and I consider mysel...\n",
       "14829    A very unfortunate experience.  We were delaye...\n",
       "Name: text, Length: 500, dtype: object"
      ]
     },
     "execution_count": 7,
     "metadata": {},
     "output_type": "execute_result"
    }
   ],
   "source": [
    "X = df['text'].loc[subset]\n",
    "X"
   ]
  },
  {
   "cell_type": "code",
   "execution_count": 8,
   "metadata": {},
   "outputs": [
    {
     "data": {
      "text/plain": [
       "1956     2\n",
       "37823    5\n",
       "40292    4\n",
       "20525    1\n",
       "27741    3\n",
       "        ..\n",
       "16233    5\n",
       "6625     1\n",
       "42732    1\n",
       "749      5\n",
       "14829    1\n",
       "Name: stars, Length: 500, dtype: int64"
      ]
     },
     "execution_count": 8,
     "metadata": {},
     "output_type": "execute_result"
    }
   ],
   "source": [
    "y = df['stars'].loc[subset]\n",
    "y"
   ]
  },
  {
   "cell_type": "code",
   "execution_count": 9,
   "metadata": {},
   "outputs": [],
   "source": [
    "import numpy as np\n",
    "\n",
    "def predict(model, reviews):\n",
    "    predictions = []\n",
    "    tokenizer = AutoTokenizer.from_pretrained(\"bert-base-cased\")\n",
    "    for review in reviews.tolist():\n",
    "        input_tokenized = tokenizer(review, padding=True,\n",
    "                       truncation=True, return_tensors=\"pt\")\n",
    "    \n",
    "        probabilities = model(**input_tokenized)\n",
    "        max_review = -1\n",
    "        max_review_id = -1\n",
    "        for i, s in enumerate(probabilities[0].tolist()[0]):\n",
    "            if s > max_review:\n",
    "                max_review = s\n",
    "                max_review_id = i\n",
    "        predictions.append(max_review_id+1)\n",
    "        \n",
    "    return pd.Series(predictions)"
   ]
  },
  {
   "cell_type": "code",
   "execution_count": 10,
   "metadata": {},
   "outputs": [],
   "source": [
    "preds = predict(model, reviews=X)"
   ]
  },
  {
   "cell_type": "code",
   "execution_count": 11,
   "metadata": {},
   "outputs": [],
   "source": [
    "def score(true, pred):\n",
    "    if len(true) != len(pred):\n",
    "        raise Error('True and prediction lists must be equal length.')\n",
    "    right = 0\n",
    "\n",
    "    for t, p in zip(true, pred):\n",
    "        if t == p:\n",
    "            right += 1\n",
    "    \n",
    "    return right/len(true)"
   ]
  },
  {
   "cell_type": "code",
   "execution_count": 12,
   "metadata": {},
   "outputs": [
    {
     "data": {
      "text/plain": [
       "0.644"
      ]
     },
     "execution_count": 12,
     "metadata": {},
     "output_type": "execute_result"
    }
   ],
   "source": [
    "score(y, preds)"
   ]
  }
 ],
 "metadata": {
  "kernelspec": {
   "display_name": "Python 3",
   "language": "python",
   "name": "python3"
  },
  "language_info": {
   "codemirror_mode": {
    "name": "ipython",
    "version": 3
   },
   "file_extension": ".py",
   "mimetype": "text/x-python",
   "name": "python",
   "nbconvert_exporter": "python",
   "pygments_lexer": "ipython3",
   "version": "3.9.6"
  },
  "orig_nbformat": 4
 },
 "nbformat": 4,
 "nbformat_minor": 2
}
