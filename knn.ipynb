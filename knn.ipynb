{
 "cells": [
  {
   "cell_type": "code",
   "execution_count": 12,
   "metadata": {},
   "outputs": [],
   "source": [
    "import pandas as pd\n",
    "import numpy as np\n",
    "from sklearn.feature_extraction.text import TfidfVectorizer\n",
    "from sklearn.model_selection import train_test_split\n",
    "from sklearn.neighbors import KNeighborsClassifier"
   ]
  },
  {
   "cell_type": "code",
   "execution_count": 13,
   "metadata": {},
   "outputs": [
    {
     "data": {
      "text/html": [
       "<div>\n",
       "<style scoped>\n",
       "    .dataframe tbody tr th:only-of-type {\n",
       "        vertical-align: middle;\n",
       "    }\n",
       "\n",
       "    .dataframe tbody tr th {\n",
       "        vertical-align: top;\n",
       "    }\n",
       "\n",
       "    .dataframe thead th {\n",
       "        text-align: right;\n",
       "    }\n",
       "</style>\n",
       "<table border=\"1\" class=\"dataframe\">\n",
       "  <thead>\n",
       "    <tr style=\"text-align: right;\">\n",
       "      <th></th>\n",
       "      <th>review_id</th>\n",
       "      <th>user_id</th>\n",
       "      <th>business_id</th>\n",
       "      <th>stars</th>\n",
       "      <th>useful</th>\n",
       "      <th>funny</th>\n",
       "      <th>cool</th>\n",
       "      <th>text</th>\n",
       "      <th>date</th>\n",
       "    </tr>\n",
       "  </thead>\n",
       "  <tbody>\n",
       "    <tr>\n",
       "      <th>0</th>\n",
       "      <td>oUVfM9ua2UtJ68sHKgCvNA</td>\n",
       "      <td>-YzMXeOVQfWAVXNAtMSbyw</td>\n",
       "      <td>dnQMntrmickWGYLB30KBEQ</td>\n",
       "      <td>4</td>\n",
       "      <td>0</td>\n",
       "      <td>0</td>\n",
       "      <td>0</td>\n",
       "      <td>Coffee is VERY good. My breakfast was a welcom...</td>\n",
       "      <td>2014-07-16 13:01:33</td>\n",
       "    </tr>\n",
       "    <tr>\n",
       "      <th>1</th>\n",
       "      <td>E7QcmW1jmB6T3HkSMdLGDA</td>\n",
       "      <td>jLNR8Tsvi47ENvoNfVYKiQ</td>\n",
       "      <td>4GGhj7Z99E5IYWdEqOsLUQ</td>\n",
       "      <td>5</td>\n",
       "      <td>0</td>\n",
       "      <td>0</td>\n",
       "      <td>0</td>\n",
       "      <td>I've been coming to this place for 18 years, a...</td>\n",
       "      <td>2019-04-16 20:17:17</td>\n",
       "    </tr>\n",
       "    <tr>\n",
       "      <th>2</th>\n",
       "      <td>GgGLzyl408biArY9oLGbRQ</td>\n",
       "      <td>392lRckiPvP-xTZ10E5RPw</td>\n",
       "      <td>c3QxX3toWdqJnKQmmIliRQ</td>\n",
       "      <td>2</td>\n",
       "      <td>0</td>\n",
       "      <td>0</td>\n",
       "      <td>0</td>\n",
       "      <td>This place is a bit overrated. It is very tren...</td>\n",
       "      <td>2021-05-02 23:53:15</td>\n",
       "    </tr>\n",
       "    <tr>\n",
       "      <th>3</th>\n",
       "      <td>B-EtTJZH45iCGWDNU36-1Q</td>\n",
       "      <td>OIa6ptM1qUts5arovQUAFQ</td>\n",
       "      <td>-QI8Qi8XWH3D8y8ethnajA</td>\n",
       "      <td>2</td>\n",
       "      <td>6</td>\n",
       "      <td>1</td>\n",
       "      <td>2</td>\n",
       "      <td>This is an older airport, and it reminded me a...</td>\n",
       "      <td>2018-04-13 15:51:03</td>\n",
       "    </tr>\n",
       "    <tr>\n",
       "      <th>4</th>\n",
       "      <td>RJb-x897_abr1CZDYiB1Xw</td>\n",
       "      <td>fwOETgbWmBAhdO9058e4Zg</td>\n",
       "      <td>C5ZOzlslhMxRJDjBDV3KoQ</td>\n",
       "      <td>5</td>\n",
       "      <td>0</td>\n",
       "      <td>0</td>\n",
       "      <td>0</td>\n",
       "      <td>Awesome. One of my favorites.  They have less ...</td>\n",
       "      <td>2016-03-27 18:29:16</td>\n",
       "    </tr>\n",
       "  </tbody>\n",
       "</table>\n",
       "</div>"
      ],
      "text/plain": [
       "                review_id                 user_id             business_id  \\\n",
       "0  oUVfM9ua2UtJ68sHKgCvNA  -YzMXeOVQfWAVXNAtMSbyw  dnQMntrmickWGYLB30KBEQ   \n",
       "1  E7QcmW1jmB6T3HkSMdLGDA  jLNR8Tsvi47ENvoNfVYKiQ  4GGhj7Z99E5IYWdEqOsLUQ   \n",
       "2  GgGLzyl408biArY9oLGbRQ  392lRckiPvP-xTZ10E5RPw  c3QxX3toWdqJnKQmmIliRQ   \n",
       "3  B-EtTJZH45iCGWDNU36-1Q  OIa6ptM1qUts5arovQUAFQ  -QI8Qi8XWH3D8y8ethnajA   \n",
       "4  RJb-x897_abr1CZDYiB1Xw  fwOETgbWmBAhdO9058e4Zg  C5ZOzlslhMxRJDjBDV3KoQ   \n",
       "\n",
       "   stars  useful  funny  cool  \\\n",
       "0      4       0      0     0   \n",
       "1      5       0      0     0   \n",
       "2      2       0      0     0   \n",
       "3      2       6      1     2   \n",
       "4      5       0      0     0   \n",
       "\n",
       "                                                text                date  \n",
       "0  Coffee is VERY good. My breakfast was a welcom... 2014-07-16 13:01:33  \n",
       "1  I've been coming to this place for 18 years, a... 2019-04-16 20:17:17  \n",
       "2  This place is a bit overrated. It is very tren... 2021-05-02 23:53:15  \n",
       "3  This is an older airport, and it reminded me a... 2018-04-13 15:51:03  \n",
       "4  Awesome. One of my favorites.  They have less ... 2016-03-27 18:29:16  "
      ]
     },
     "execution_count": 13,
     "metadata": {},
     "output_type": "execute_result"
    }
   ],
   "source": [
    "df = pd.read_json('yelp_academic_dataset_review_50k.json', lines=True)\n",
    "df.head()"
   ]
  },
  {
   "cell_type": "code",
   "execution_count": 14,
   "metadata": {},
   "outputs": [],
   "source": [
    "def build_subset(df, y, classes, distributions):\n",
    "    if len(classes) != len(distributions):\n",
    "        raise Exception('classes and distributions must be same length')\n",
    "    \n",
    "    dfs = []\n",
    "    for i in range(len(classes)):\n",
    "        dfs.append(df.loc[df[y] == classes[i]].sample(n=distributions[i]))\n",
    "\n",
    "    return pd.concat(dfs)"
   ]
  },
  {
   "cell_type": "code",
   "execution_count": 15,
   "metadata": {},
   "outputs": [],
   "source": [
    "df_12_345 = build_subset(df, 'stars', [1, 2, 3, 4, 5], [3800, 3800, 3800, 3800, 3800]) # make a dataset with all 5 star ratings, pulling 3800 samples from each rating\n",
    "df_12_45 = build_subset(df, 'stars', [1, 2, 4, 5], [3800, 3800, 3800, 3800]) # make a dataset only considering 1, 2, 4, 5 star ratings\n",
    "df_1_5 = build_subset(df, 'stars', [1, 5], [5500, 5500]) # make a dataset only considering 1 and 5 star ratings"
   ]
  },
  {
   "cell_type": "code",
   "execution_count": 16,
   "metadata": {},
   "outputs": [],
   "source": [
    "def knnClassifier(df):    \n",
    "    X = df[['text']]\n",
    "    y = df['stars'].replace([1, 2],0).replace([3, 4, 5], 1)\n",
    "    X_train, X_test, y_train, y_test = train_test_split(\n",
    "        X, y, test_size=0.2, random_state=1)\n",
    "\n",
    "    tfidf_vectorizer = TfidfVectorizer()\n",
    "    X_train_tfidf = tfidf_vectorizer.fit_transform(X_train.text)\n",
    "    X_test_tfidf = tfidf_vectorizer.transform(X_test.text)\n",
    "\n",
    "    best_k = 0\n",
    "    best_test_accuracy = -float('inf')\n",
    "    best_train_accuracy = -float('inf')\n",
    "    for k in range(1, 11):\n",
    "        knn = KNeighborsClassifier(n_neighbors=k)\n",
    "        knn.fit(X_train_tfidf, y_train)\n",
    "        knn_accuracy = knn.score(X_test_tfidf, y_test)\n",
    "        if (knn_accuracy > best_test_accuracy):\n",
    "            best_k = k\n",
    "            best_test_accuracy = knn_accuracy\n",
    "            best_train_accuracy = knn.score(X_train_tfidf, y_train)\n",
    "        print(\"Accuracy given by percentage of correct predictions for k =\", k, \":\", round(knn_accuracy, 4))\n",
    "    \n",
    "    return (best_k, round(best_train_accuracy, 4), round(best_test_accuracy, 4))\n"
   ]
  },
  {
   "cell_type": "code",
   "execution_count": 17,
   "metadata": {},
   "outputs": [
    {
     "name": "stdout",
     "output_type": "stream",
     "text": [
      "Accuracy given by percentage of correct predictions for k = 1 : 0.6411\n",
      "Accuracy given by percentage of correct predictions for k = 2 : 0.6103\n",
      "Accuracy given by percentage of correct predictions for k = 3 : 0.68\n",
      "Accuracy given by percentage of correct predictions for k = 4 : 0.6555\n",
      "Accuracy given by percentage of correct predictions for k = 5 : 0.6979\n",
      "Accuracy given by percentage of correct predictions for k = 6 : 0.6826\n",
      "Accuracy given by percentage of correct predictions for k = 7 : 0.7089\n",
      "Accuracy given by percentage of correct predictions for k = 8 : 0.6987\n",
      "Accuracy given by percentage of correct predictions for k = 9 : 0.7211\n",
      "Accuracy given by percentage of correct predictions for k = 10 : 0.7076\n",
      "\n",
      "Train accuracy for classifying 1 to 2 stars and 3 to 5 stars with optimal k : k = 9 accuracy = 0.775\n",
      "Test accuracy for classifying 1 to 2 stars and 3 to 5 stars with optimal k : k = 9 accuracy = 0.7211\n"
     ]
    }
   ],
   "source": [
    "best_result_12_345 = knnClassifier(df_12_345)\n",
    "print(\"\\nTrain accuracy for classifying 1 to 2 stars and 3 to 5 stars with optimal k : k =\", best_result_12_345[0], \"accuracy =\", best_result_12_345[1])\n",
    "print(\"Test accuracy for classifying 1 to 2 stars and 3 to 5 stars with optimal k : k =\", best_result_12_345[0], \"accuracy =\", best_result_12_345[2])"
   ]
  },
  {
   "cell_type": "code",
   "execution_count": 19,
   "metadata": {},
   "outputs": [
    {
     "name": "stdout",
     "output_type": "stream",
     "text": [
      "Accuracy given by percentage of correct predictions for k = 1 : 0.6924\n",
      "Accuracy given by percentage of correct predictions for k = 2 : 0.6658\n",
      "Accuracy given by percentage of correct predictions for k = 3 : 0.7316\n",
      "Accuracy given by percentage of correct predictions for k = 4 : 0.7049\n",
      "Accuracy given by percentage of correct predictions for k = 5 : 0.7493\n",
      "Accuracy given by percentage of correct predictions for k = 6 : 0.7299\n",
      "Accuracy given by percentage of correct predictions for k = 7 : 0.7602\n",
      "Accuracy given by percentage of correct predictions for k = 8 : 0.7428\n",
      "Accuracy given by percentage of correct predictions for k = 9 : 0.7651\n",
      "Accuracy given by percentage of correct predictions for k = 10 : 0.7503\n",
      "\n",
      "Train accuracy for classifying 1 to 2 stars and 4 to 5 stars with optimal k : k = 9 accuracy = 0.8102\n",
      "Test accuracy for classifying 1 to 2 stars and 4 to 5 stars with optimal k : k = 9 accuracy = 0.7651\n"
     ]
    }
   ],
   "source": [
    "best_result_12_45 = knnClassifier(df_12_45)\n",
    "print(\"\\nTrain accuracy for classifying 1 to 2 stars and 4 to 5 stars with optimal k : k =\", best_result_12_45[0], \"accuracy =\", best_result_12_45[1])\n",
    "print(\"Test accuracy for classifying 1 to 2 stars and 4 to 5 stars with optimal k : k =\", best_result_12_45[0], \"accuracy =\", best_result_12_45[2])"
   ]
  },
  {
   "cell_type": "code",
   "execution_count": 20,
   "metadata": {},
   "outputs": [
    {
     "name": "stdout",
     "output_type": "stream",
     "text": [
      "Accuracy given by percentage of correct predictions for k = 1 : 0.7745\n",
      "Accuracy given by percentage of correct predictions for k = 2 : 0.7282\n",
      "Accuracy given by percentage of correct predictions for k = 3 : 0.7918\n",
      "Accuracy given by percentage of correct predictions for k = 4 : 0.7705\n",
      "Accuracy given by percentage of correct predictions for k = 5 : 0.8032\n",
      "Accuracy given by percentage of correct predictions for k = 6 : 0.7868\n",
      "Accuracy given by percentage of correct predictions for k = 7 : 0.8073\n",
      "Accuracy given by percentage of correct predictions for k = 8 : 0.7877\n",
      "Accuracy given by percentage of correct predictions for k = 9 : 0.8036\n",
      "Accuracy given by percentage of correct predictions for k = 10 : 0.7868\n",
      "\n",
      "Train accuracy for classifying 1 star and 5 stars with optimal k : k = 7 accuracy = 0.8574\n",
      "Test accuracy for classifying 1 star and 5 stars with optimal k : k = 7 accuracy = 0.8073\n"
     ]
    }
   ],
   "source": [
    "best_result_1_5 = knnClassifier(df_1_5)\n",
    "print(\"\\nTrain accuracy for classifying 1 star and 5 stars with optimal k : k =\", best_result_1_5[0], \"accuracy =\", best_result_1_5[1])\n",
    "print(\"Test accuracy for classifying 1 star and 5 stars with optimal k : k =\", best_result_1_5[0], \"accuracy =\", best_result_1_5[2])"
   ]
  }
 ],
 "metadata": {
  "kernelspec": {
   "display_name": "Python 3",
   "language": "python",
   "name": "python3"
  },
  "language_info": {
   "codemirror_mode": {
    "name": "ipython",
    "version": 3
   },
   "file_extension": ".py",
   "mimetype": "text/x-python",
   "name": "python",
   "nbconvert_exporter": "python",
   "pygments_lexer": "ipython3",
   "version": "3.10.10"
  },
  "orig_nbformat": 4
 },
 "nbformat": 4,
 "nbformat_minor": 2
}
