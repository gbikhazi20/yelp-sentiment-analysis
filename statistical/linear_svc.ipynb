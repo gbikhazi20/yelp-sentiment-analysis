{
 "cells": [
  {
   "cell_type": "code",
   "execution_count": 2,
   "metadata": {
    "scrolled": true
   },
   "outputs": [],
   "source": [
    "import pandas as pd\n",
    "import numpy as np\n",
    "from sklearn.feature_extraction.text import CountVectorizer\n",
    "from sklearn.model_selection import train_test_split"
   ]
  },
  {
   "cell_type": "code",
   "execution_count": 3,
   "metadata": {},
   "outputs": [
    {
     "data": {
      "text/html": [
       "<div>\n",
       "<style scoped>\n",
       "    .dataframe tbody tr th:only-of-type {\n",
       "        vertical-align: middle;\n",
       "    }\n",
       "\n",
       "    .dataframe tbody tr th {\n",
       "        vertical-align: top;\n",
       "    }\n",
       "\n",
       "    .dataframe thead th {\n",
       "        text-align: right;\n",
       "    }\n",
       "</style>\n",
       "<table border=\"1\" class=\"dataframe\">\n",
       "  <thead>\n",
       "    <tr style=\"text-align: right;\">\n",
       "      <th></th>\n",
       "      <th>review_id</th>\n",
       "      <th>user_id</th>\n",
       "      <th>business_id</th>\n",
       "      <th>stars</th>\n",
       "      <th>useful</th>\n",
       "      <th>funny</th>\n",
       "      <th>cool</th>\n",
       "      <th>text</th>\n",
       "      <th>date</th>\n",
       "    </tr>\n",
       "  </thead>\n",
       "  <tbody>\n",
       "    <tr>\n",
       "      <th>0</th>\n",
       "      <td>oUVfM9ua2UtJ68sHKgCvNA</td>\n",
       "      <td>-YzMXeOVQfWAVXNAtMSbyw</td>\n",
       "      <td>dnQMntrmickWGYLB30KBEQ</td>\n",
       "      <td>4</td>\n",
       "      <td>0</td>\n",
       "      <td>0</td>\n",
       "      <td>0</td>\n",
       "      <td>Coffee is VERY good. My breakfast was a welcom...</td>\n",
       "      <td>2014-07-16 13:01:33</td>\n",
       "    </tr>\n",
       "    <tr>\n",
       "      <th>1</th>\n",
       "      <td>E7QcmW1jmB6T3HkSMdLGDA</td>\n",
       "      <td>jLNR8Tsvi47ENvoNfVYKiQ</td>\n",
       "      <td>4GGhj7Z99E5IYWdEqOsLUQ</td>\n",
       "      <td>5</td>\n",
       "      <td>0</td>\n",
       "      <td>0</td>\n",
       "      <td>0</td>\n",
       "      <td>I've been coming to this place for 18 years, a...</td>\n",
       "      <td>2019-04-16 20:17:17</td>\n",
       "    </tr>\n",
       "    <tr>\n",
       "      <th>2</th>\n",
       "      <td>GgGLzyl408biArY9oLGbRQ</td>\n",
       "      <td>392lRckiPvP-xTZ10E5RPw</td>\n",
       "      <td>c3QxX3toWdqJnKQmmIliRQ</td>\n",
       "      <td>2</td>\n",
       "      <td>0</td>\n",
       "      <td>0</td>\n",
       "      <td>0</td>\n",
       "      <td>This place is a bit overrated. It is very tren...</td>\n",
       "      <td>2021-05-02 23:53:15</td>\n",
       "    </tr>\n",
       "    <tr>\n",
       "      <th>3</th>\n",
       "      <td>B-EtTJZH45iCGWDNU36-1Q</td>\n",
       "      <td>OIa6ptM1qUts5arovQUAFQ</td>\n",
       "      <td>-QI8Qi8XWH3D8y8ethnajA</td>\n",
       "      <td>2</td>\n",
       "      <td>6</td>\n",
       "      <td>1</td>\n",
       "      <td>2</td>\n",
       "      <td>This is an older airport, and it reminded me a...</td>\n",
       "      <td>2018-04-13 15:51:03</td>\n",
       "    </tr>\n",
       "    <tr>\n",
       "      <th>4</th>\n",
       "      <td>RJb-x897_abr1CZDYiB1Xw</td>\n",
       "      <td>fwOETgbWmBAhdO9058e4Zg</td>\n",
       "      <td>C5ZOzlslhMxRJDjBDV3KoQ</td>\n",
       "      <td>5</td>\n",
       "      <td>0</td>\n",
       "      <td>0</td>\n",
       "      <td>0</td>\n",
       "      <td>Awesome. One of my favorites.  They have less ...</td>\n",
       "      <td>2016-03-27 18:29:16</td>\n",
       "    </tr>\n",
       "  </tbody>\n",
       "</table>\n",
       "</div>"
      ],
      "text/plain": [
       "                review_id                 user_id             business_id  \\\n",
       "0  oUVfM9ua2UtJ68sHKgCvNA  -YzMXeOVQfWAVXNAtMSbyw  dnQMntrmickWGYLB30KBEQ   \n",
       "1  E7QcmW1jmB6T3HkSMdLGDA  jLNR8Tsvi47ENvoNfVYKiQ  4GGhj7Z99E5IYWdEqOsLUQ   \n",
       "2  GgGLzyl408biArY9oLGbRQ  392lRckiPvP-xTZ10E5RPw  c3QxX3toWdqJnKQmmIliRQ   \n",
       "3  B-EtTJZH45iCGWDNU36-1Q  OIa6ptM1qUts5arovQUAFQ  -QI8Qi8XWH3D8y8ethnajA   \n",
       "4  RJb-x897_abr1CZDYiB1Xw  fwOETgbWmBAhdO9058e4Zg  C5ZOzlslhMxRJDjBDV3KoQ   \n",
       "\n",
       "   stars  useful  funny  cool  \\\n",
       "0      4       0      0     0   \n",
       "1      5       0      0     0   \n",
       "2      2       0      0     0   \n",
       "3      2       6      1     2   \n",
       "4      5       0      0     0   \n",
       "\n",
       "                                                text                date  \n",
       "0  Coffee is VERY good. My breakfast was a welcom... 2014-07-16 13:01:33  \n",
       "1  I've been coming to this place for 18 years, a... 2019-04-16 20:17:17  \n",
       "2  This place is a bit overrated. It is very tren... 2021-05-02 23:53:15  \n",
       "3  This is an older airport, and it reminded me a... 2018-04-13 15:51:03  \n",
       "4  Awesome. One of my favorites.  They have less ... 2016-03-27 18:29:16  "
      ]
     },
     "execution_count": 3,
     "metadata": {},
     "output_type": "execute_result"
    }
   ],
   "source": [
    "df = pd.read_json('yelp_academic_dataset_review_50k.json', lines=True)\n",
    "df.head()"
   ]
  },
  {
   "cell_type": "code",
   "execution_count": 4,
   "metadata": {},
   "outputs": [],
   "source": [
    "def build_subset(df, y, classes, distributions):\n",
    "    if len(classes) != len(distributions):\n",
    "        raise Exception('classes and distributions must be same length')\n",
    "    \n",
    "    dfs = []\n",
    "    for i in range(len(classes)):\n",
    "        dfs.append(df.loc[df[y] == classes[i]].sample(n=distributions[i]))\n",
    "\n",
    "    return pd.concat(dfs)"
   ]
  },
  {
   "cell_type": "code",
   "execution_count": 11,
   "metadata": {},
   "outputs": [],
   "source": [
    "from sklearn.svm import LinearSVC\n",
    "from sklearn.model_selection import GridSearchCV\n",
    "from sklearn.feature_extraction.text import TfidfVectorizer"
   ]
  },
  {
   "cell_type": "code",
   "execution_count": 12,
   "metadata": {},
   "outputs": [],
   "source": [
    "df_12_345 = build_subset(df, 'stars', [1, 2, 3, 4, 5], [3800, 3800, 3800, 3800, 3800]) # make a dataset with all 5 star ratings, pulling 3800 samples from each rating\n",
    "df_12_45 = build_subset(df, 'stars', [1, 2, 4, 5], [3800, 3800, 3800, 3800]) # make a dataset only considering 1, 2, 4, 5 star ratings\n",
    "df_1_5 = build_subset(df, 'stars', [1, 5], [5500, 5500]) # make a dataset only considering 1 and 5 star ratings"
   ]
  },
  {
   "cell_type": "code",
   "execution_count": 21,
   "metadata": {},
   "outputs": [],
   "source": [
    "def sklearn_svc_gs(df):\n",
    "    X = df[['text']]\n",
    "    y = df['stars'].replace([1, 2], 0).replace([3, 4, 5], 1)\n",
    "    X_train, X_test, y_train, y_test = train_test_split(\n",
    "        X, y, test_size=0.2, random_state=1)\n",
    "    \n",
    "    tfidf_vectorizer = TfidfVectorizer()\n",
    "    X_train_tfidf = tfidf_vectorizer.fit_transform(X_train.text)\n",
    "    X_test_tfidf = tfidf_vectorizer.transform(X_test.text)\n",
    "    \n",
    "    param_grid = {\n",
    "    'C': [0.1, 1, 10],\n",
    "    'penalty': ['l1', 'l2'],\n",
    "    'dual': [False, True]\n",
    "    }\n",
    "    \n",
    "    svc = LinearSVC(random_state = 1)\n",
    "    \n",
    "    gs = GridSearchCV(estimator=svc, param_grid=param_grid, cv=5)\n",
    "    \n",
    "    gs.fit(X_train_tfidf, y_train)\n",
    "    \n",
    "    print(\"Best parameters: \", gs.best_params_)\n",
    "    print(\"Best score: \", gs.best_score_)\n",
    "    \n",
    "    best_svc = LinearSVC(**gs.best_params_, random_state = 1)\n",
    "    \n",
    "    best_svc.fit(X_train_tfidf, y_train)\n",
    "    \n",
    "    train_accuracy = best_svc.score(X_train_tfidf, y_train)\n",
    "    test_accuracy = best_svc.score(X_test_tfidf, y_test)\n",
    "    \n",
    "    return round(train_accuracy, 4), round(test_accuracy, 4)"
   ]
  },
  {
   "cell_type": "code",
   "execution_count": 22,
   "metadata": {
    "scrolled": false
   },
   "outputs": [
    {
     "name": "stderr",
     "output_type": "stream",
     "text": [
      "C:\\ProgramData\\Anaconda3\\lib\\site-packages\\sklearn\\model_selection\\_validation.py:548: FitFailedWarning: Estimator fit failed. The score on this train-test partition for these parameters will be set to nan. Details: \n",
      "Traceback (most recent call last):\n",
      "  File \"C:\\ProgramData\\Anaconda3\\lib\\site-packages\\sklearn\\model_selection\\_validation.py\", line 531, in _fit_and_score\n",
      "    estimator.fit(X_train, y_train, **fit_params)\n",
      "  File \"C:\\ProgramData\\Anaconda3\\lib\\site-packages\\sklearn\\svm\\_classes.py\", line 233, in fit\n",
      "    self.coef_, self.intercept_, self.n_iter_ = _fit_liblinear(\n",
      "  File \"C:\\ProgramData\\Anaconda3\\lib\\site-packages\\sklearn\\svm\\_base.py\", line 965, in _fit_liblinear\n",
      "    solver_type = _get_liblinear_solver_type(multi_class, penalty, loss, dual)\n",
      "  File \"C:\\ProgramData\\Anaconda3\\lib\\site-packages\\sklearn\\svm\\_base.py\", line 821, in _get_liblinear_solver_type\n",
      "    raise ValueError('Unsupported set of arguments: %s, '\n",
      "ValueError: Unsupported set of arguments: The combination of penalty='l1' and loss='squared_hinge' are not supported when dual=True, Parameters: penalty='l1', loss='squared_hinge', dual=True\n",
      "\n",
      "  warnings.warn(\"Estimator fit failed. The score on this train-test\"\n",
      "C:\\ProgramData\\Anaconda3\\lib\\site-packages\\sklearn\\svm\\_base.py:976: ConvergenceWarning: Liblinear failed to converge, increase the number of iterations.\n",
      "  warnings.warn(\"Liblinear failed to converge, increase \"\n"
     ]
    },
    {
     "name": "stdout",
     "output_type": "stream",
     "text": [
      "Best parameters:  {'C': 0.1, 'dual': False, 'penalty': 'l2'}\n",
      "Best score:  0.8553289473684211\n",
      "Support vector classifier train accuracy for classifying 1 to 2 stars and 3 to 5 stars : 0.9047\n",
      "Support vector classifier test accuracy for classifying 1 to 2 stars and 3 to 5 stars : 0.8582\n"
     ]
    }
   ],
   "source": [
    "result_12_345 = sklearn_svc_gs(df_12_345)\n",
    "print(\"Support vector classifier train accuracy for classifying 1 to 2 stars and 3 to 5 stars :\", result_12_345[0])\n",
    "print(\"Support vector classifier test accuracy for classifying 1 to 2 stars and 3 to 5 stars :\", result_12_345[1])"
   ]
  },
  {
   "cell_type": "code",
   "execution_count": 23,
   "metadata": {},
   "outputs": [
    {
     "name": "stderr",
     "output_type": "stream",
     "text": [
      "C:\\ProgramData\\Anaconda3\\lib\\site-packages\\sklearn\\model_selection\\_validation.py:548: FitFailedWarning: Estimator fit failed. The score on this train-test partition for these parameters will be set to nan. Details: \n",
      "Traceback (most recent call last):\n",
      "  File \"C:\\ProgramData\\Anaconda3\\lib\\site-packages\\sklearn\\model_selection\\_validation.py\", line 531, in _fit_and_score\n",
      "    estimator.fit(X_train, y_train, **fit_params)\n",
      "  File \"C:\\ProgramData\\Anaconda3\\lib\\site-packages\\sklearn\\svm\\_classes.py\", line 233, in fit\n",
      "    self.coef_, self.intercept_, self.n_iter_ = _fit_liblinear(\n",
      "  File \"C:\\ProgramData\\Anaconda3\\lib\\site-packages\\sklearn\\svm\\_base.py\", line 965, in _fit_liblinear\n",
      "    solver_type = _get_liblinear_solver_type(multi_class, penalty, loss, dual)\n",
      "  File \"C:\\ProgramData\\Anaconda3\\lib\\site-packages\\sklearn\\svm\\_base.py\", line 821, in _get_liblinear_solver_type\n",
      "    raise ValueError('Unsupported set of arguments: %s, '\n",
      "ValueError: Unsupported set of arguments: The combination of penalty='l1' and loss='squared_hinge' are not supported when dual=True, Parameters: penalty='l1', loss='squared_hinge', dual=True\n",
      "\n",
      "  warnings.warn(\"Estimator fit failed. The score on this train-test\"\n",
      "C:\\ProgramData\\Anaconda3\\lib\\site-packages\\sklearn\\svm\\_base.py:976: ConvergenceWarning: Liblinear failed to converge, increase the number of iterations.\n",
      "  warnings.warn(\"Liblinear failed to converge, increase \"\n"
     ]
    },
    {
     "name": "stdout",
     "output_type": "stream",
     "text": [
      "Best parameters:  {'C': 1, 'dual': False, 'penalty': 'l2'}\n",
      "Best score:  0.9181743421052632\n",
      "Support vector classifier train accuracy for classifying 1 to 2 stars and 4 to 5 stars : 0.9932\n",
      "Support vector classifier test accuracy for classifying 1 to 2 stars and 4 to 5 stars : 0.9253\n"
     ]
    }
   ],
   "source": [
    "result_12_45 = sklearn_svc_gs(df_12_45)\n",
    "print(\"Support vector classifier train accuracy for classifying 1 to 2 stars and 4 to 5 stars :\", result_12_45[0])\n",
    "print(\"Support vector classifier test accuracy for classifying 1 to 2 stars and 4 to 5 stars :\", result_12_45[1])"
   ]
  },
  {
   "cell_type": "code",
   "execution_count": 24,
   "metadata": {},
   "outputs": [
    {
     "name": "stderr",
     "output_type": "stream",
     "text": [
      "C:\\ProgramData\\Anaconda3\\lib\\site-packages\\sklearn\\model_selection\\_validation.py:548: FitFailedWarning: Estimator fit failed. The score on this train-test partition for these parameters will be set to nan. Details: \n",
      "Traceback (most recent call last):\n",
      "  File \"C:\\ProgramData\\Anaconda3\\lib\\site-packages\\sklearn\\model_selection\\_validation.py\", line 531, in _fit_and_score\n",
      "    estimator.fit(X_train, y_train, **fit_params)\n",
      "  File \"C:\\ProgramData\\Anaconda3\\lib\\site-packages\\sklearn\\svm\\_classes.py\", line 233, in fit\n",
      "    self.coef_, self.intercept_, self.n_iter_ = _fit_liblinear(\n",
      "  File \"C:\\ProgramData\\Anaconda3\\lib\\site-packages\\sklearn\\svm\\_base.py\", line 965, in _fit_liblinear\n",
      "    solver_type = _get_liblinear_solver_type(multi_class, penalty, loss, dual)\n",
      "  File \"C:\\ProgramData\\Anaconda3\\lib\\site-packages\\sklearn\\svm\\_base.py\", line 821, in _get_liblinear_solver_type\n",
      "    raise ValueError('Unsupported set of arguments: %s, '\n",
      "ValueError: Unsupported set of arguments: The combination of penalty='l1' and loss='squared_hinge' are not supported when dual=True, Parameters: penalty='l1', loss='squared_hinge', dual=True\n",
      "\n",
      "  warnings.warn(\"Estimator fit failed. The score on this train-test\"\n",
      "C:\\ProgramData\\Anaconda3\\lib\\site-packages\\sklearn\\svm\\_base.py:976: ConvergenceWarning: Liblinear failed to converge, increase the number of iterations.\n",
      "  warnings.warn(\"Liblinear failed to converge, increase \"\n"
     ]
    },
    {
     "name": "stdout",
     "output_type": "stream",
     "text": [
      "Best parameters:  {'C': 1, 'dual': False, 'penalty': 'l2'}\n",
      "Best score:  0.9602272727272727\n",
      "Support vector classifier train accuracy for classifying 1 star and 5 stars : 0.9995\n",
      "Support vector classifier test accuracy for classifying 1 star and 5 stars : 0.9577\n"
     ]
    }
   ],
   "source": [
    "result_1_5 = sklearn_svc_gs(df_1_5)\n",
    "print(\"Support vector classifier train accuracy for classifying 1 star and 5 stars :\", result_1_5[0])\n",
    "print(\"Support vector classifier test accuracy for classifying 1 star and 5 stars :\", result_1_5[1])"
   ]
  }
 ],
 "metadata": {
  "kernelspec": {
   "display_name": "Python 3",
   "language": "python",
   "name": "python3"
  },
  "language_info": {
   "codemirror_mode": {
    "name": "ipython",
    "version": 3
   },
   "file_extension": ".py",
   "mimetype": "text/x-python",
   "name": "python",
   "nbconvert_exporter": "python",
   "pygments_lexer": "ipython3",
   "version": "3.8.5"
  }
 },
 "nbformat": 4,
 "nbformat_minor": 4
}
