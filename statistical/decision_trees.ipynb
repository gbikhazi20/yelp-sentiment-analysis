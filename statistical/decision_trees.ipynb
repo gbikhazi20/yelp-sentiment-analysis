{
 "cells": [
  {
   "cell_type": "code",
   "execution_count": 1,
   "metadata": {},
   "outputs": [],
   "source": [
    "import pandas as pd\n",
    "import numpy as np\n",
    "from sklearn.feature_extraction.text import CountVectorizer\n",
    "from sklearn.model_selection import train_test_split"
   ]
  },
  {
   "cell_type": "code",
   "execution_count": 2,
   "metadata": {},
   "outputs": [
    {
     "data": {
      "text/html": [
       "<div>\n",
       "<style scoped>\n",
       "    .dataframe tbody tr th:only-of-type {\n",
       "        vertical-align: middle;\n",
       "    }\n",
       "\n",
       "    .dataframe tbody tr th {\n",
       "        vertical-align: top;\n",
       "    }\n",
       "\n",
       "    .dataframe thead th {\n",
       "        text-align: right;\n",
       "    }\n",
       "</style>\n",
       "<table border=\"1\" class=\"dataframe\">\n",
       "  <thead>\n",
       "    <tr style=\"text-align: right;\">\n",
       "      <th></th>\n",
       "      <th>review_id</th>\n",
       "      <th>user_id</th>\n",
       "      <th>business_id</th>\n",
       "      <th>stars</th>\n",
       "      <th>useful</th>\n",
       "      <th>funny</th>\n",
       "      <th>cool</th>\n",
       "      <th>text</th>\n",
       "      <th>date</th>\n",
       "    </tr>\n",
       "  </thead>\n",
       "  <tbody>\n",
       "    <tr>\n",
       "      <th>0</th>\n",
       "      <td>oUVfM9ua2UtJ68sHKgCvNA</td>\n",
       "      <td>-YzMXeOVQfWAVXNAtMSbyw</td>\n",
       "      <td>dnQMntrmickWGYLB30KBEQ</td>\n",
       "      <td>4</td>\n",
       "      <td>0</td>\n",
       "      <td>0</td>\n",
       "      <td>0</td>\n",
       "      <td>Coffee is VERY good. My breakfast was a welcom...</td>\n",
       "      <td>2014-07-16 13:01:33</td>\n",
       "    </tr>\n",
       "    <tr>\n",
       "      <th>1</th>\n",
       "      <td>E7QcmW1jmB6T3HkSMdLGDA</td>\n",
       "      <td>jLNR8Tsvi47ENvoNfVYKiQ</td>\n",
       "      <td>4GGhj7Z99E5IYWdEqOsLUQ</td>\n",
       "      <td>5</td>\n",
       "      <td>0</td>\n",
       "      <td>0</td>\n",
       "      <td>0</td>\n",
       "      <td>I've been coming to this place for 18 years, a...</td>\n",
       "      <td>2019-04-16 20:17:17</td>\n",
       "    </tr>\n",
       "    <tr>\n",
       "      <th>2</th>\n",
       "      <td>GgGLzyl408biArY9oLGbRQ</td>\n",
       "      <td>392lRckiPvP-xTZ10E5RPw</td>\n",
       "      <td>c3QxX3toWdqJnKQmmIliRQ</td>\n",
       "      <td>2</td>\n",
       "      <td>0</td>\n",
       "      <td>0</td>\n",
       "      <td>0</td>\n",
       "      <td>This place is a bit overrated. It is very tren...</td>\n",
       "      <td>2021-05-02 23:53:15</td>\n",
       "    </tr>\n",
       "    <tr>\n",
       "      <th>3</th>\n",
       "      <td>B-EtTJZH45iCGWDNU36-1Q</td>\n",
       "      <td>OIa6ptM1qUts5arovQUAFQ</td>\n",
       "      <td>-QI8Qi8XWH3D8y8ethnajA</td>\n",
       "      <td>2</td>\n",
       "      <td>6</td>\n",
       "      <td>1</td>\n",
       "      <td>2</td>\n",
       "      <td>This is an older airport, and it reminded me a...</td>\n",
       "      <td>2018-04-13 15:51:03</td>\n",
       "    </tr>\n",
       "    <tr>\n",
       "      <th>4</th>\n",
       "      <td>RJb-x897_abr1CZDYiB1Xw</td>\n",
       "      <td>fwOETgbWmBAhdO9058e4Zg</td>\n",
       "      <td>C5ZOzlslhMxRJDjBDV3KoQ</td>\n",
       "      <td>5</td>\n",
       "      <td>0</td>\n",
       "      <td>0</td>\n",
       "      <td>0</td>\n",
       "      <td>Awesome. One of my favorites.  They have less ...</td>\n",
       "      <td>2016-03-27 18:29:16</td>\n",
       "    </tr>\n",
       "  </tbody>\n",
       "</table>\n",
       "</div>"
      ],
      "text/plain": [
       "                review_id                 user_id             business_id  \\\n",
       "0  oUVfM9ua2UtJ68sHKgCvNA  -YzMXeOVQfWAVXNAtMSbyw  dnQMntrmickWGYLB30KBEQ   \n",
       "1  E7QcmW1jmB6T3HkSMdLGDA  jLNR8Tsvi47ENvoNfVYKiQ  4GGhj7Z99E5IYWdEqOsLUQ   \n",
       "2  GgGLzyl408biArY9oLGbRQ  392lRckiPvP-xTZ10E5RPw  c3QxX3toWdqJnKQmmIliRQ   \n",
       "3  B-EtTJZH45iCGWDNU36-1Q  OIa6ptM1qUts5arovQUAFQ  -QI8Qi8XWH3D8y8ethnajA   \n",
       "4  RJb-x897_abr1CZDYiB1Xw  fwOETgbWmBAhdO9058e4Zg  C5ZOzlslhMxRJDjBDV3KoQ   \n",
       "\n",
       "   stars  useful  funny  cool  \\\n",
       "0      4       0      0     0   \n",
       "1      5       0      0     0   \n",
       "2      2       0      0     0   \n",
       "3      2       6      1     2   \n",
       "4      5       0      0     0   \n",
       "\n",
       "                                                text                date  \n",
       "0  Coffee is VERY good. My breakfast was a welcom... 2014-07-16 13:01:33  \n",
       "1  I've been coming to this place for 18 years, a... 2019-04-16 20:17:17  \n",
       "2  This place is a bit overrated. It is very tren... 2021-05-02 23:53:15  \n",
       "3  This is an older airport, and it reminded me a... 2018-04-13 15:51:03  \n",
       "4  Awesome. One of my favorites.  They have less ... 2016-03-27 18:29:16  "
      ]
     },
     "execution_count": 2,
     "metadata": {},
     "output_type": "execute_result"
    }
   ],
   "source": [
    "df = pd.read_json('yelp_academic_dataset_review_50k.json', lines=True)\n",
    "df.head()"
   ]
  },
  {
   "cell_type": "code",
   "execution_count": 3,
   "metadata": {},
   "outputs": [],
   "source": [
    "def build_subset(df, y, classes, distributions):\n",
    "    if len(classes) != len(distributions):\n",
    "        raise Exception('classes and distributions must be same length')\n",
    "    \n",
    "    dfs = []\n",
    "    for i in range(len(classes)):\n",
    "        dfs.append(df.loc[df[y] == classes[i]].sample(n=distributions[i]))\n",
    "\n",
    "    return pd.concat(dfs)"
   ]
  },
  {
   "cell_type": "code",
   "execution_count": 4,
   "metadata": {},
   "outputs": [],
   "source": [
    "from sklearn.tree import DecisionTreeClassifier\n",
    "from sklearn.feature_extraction.text import TfidfVectorizer\n",
    "from sklearn.model_selection import GridSearchCV"
   ]
  },
  {
   "cell_type": "code",
   "execution_count": 5,
   "metadata": {},
   "outputs": [],
   "source": [
    "df_12_345 = build_subset(df, 'stars', [1, 2, 3, 4, 5], [3800, 3800, 3800, 3800, 3800]) # make a dataset with all 5 star ratings, pulling 3800 samples from each rating\n",
    "df_12_45 = build_subset(df, 'stars', [1, 2, 4, 5], [3800, 3800, 3800, 3800]) # make a dataset only considering 1, 2, 4, 5 star ratings\n",
    "df_1_5 = build_subset(df, 'stars', [1, 5], [5500, 5500]) # make a dataset only considering 1 and 5 star ratings"
   ]
  },
  {
   "cell_type": "code",
   "execution_count": 6,
   "metadata": {},
   "outputs": [],
   "source": [
    "def sklearn_dt_gs(df):\n",
    "    X = df[['text']]\n",
    "    y = df['stars'].replace([1, 2], 0).replace([3, 4, 5], 1)\n",
    "    X_train, X_test, y_train, y_test = train_test_split(\n",
    "        X, y, test_size=0.2, random_state=1)\n",
    "    \n",
    "    tfidf_vectorizer = TfidfVectorizer()\n",
    "    X_train_tfidf = tfidf_vectorizer.fit_transform(X_train.text)\n",
    "    X_test_tfidf = tfidf_vectorizer.transform(X_test.text)\n",
    "    \n",
    "    param_grid = {\n",
    "    'max_depth': [10, 20, 30],\n",
    "    'min_samples_split': [2, 5, 10],\n",
    "    'min_samples_leaf': [1, 2, 4]\n",
    "    }\n",
    "    \n",
    "    dtc = DecisionTreeClassifier(random_state=1)\n",
    "    \n",
    "    gs = GridSearchCV(estimator=dtc, param_grid=param_grid, cv=5)\n",
    "    \n",
    "    gs.fit(X_train_tfidf, y_train)\n",
    "    \n",
    "    print(\"Best parameters: \", gs.best_params_)\n",
    "    print(\"Best score: \", gs.best_score_)\n",
    "    \n",
    "    best_dtc = DecisionTreeClassifier(**gs.best_params_, random_state=1)\n",
    "    \n",
    "    best_dtc.fit(X_train_tfidf, y_train)\n",
    "    \n",
    "    train_accuracy = best_dtc.score(X_train_tfidf, y_train)\n",
    "    test_accuracy = best_dtc.score(X_test_tfidf, y_test)\n",
    "    \n",
    "    return round(train_accuracy, 4), round(test_accuracy, 4)\n",
    "        \n"
   ]
  },
  {
   "cell_type": "code",
   "execution_count": 7,
   "metadata": {},
   "outputs": [
    {
     "name": "stdout",
     "output_type": "stream",
     "text": [
      "Best parameters:  {'max_depth': 20, 'min_samples_leaf': 1, 'min_samples_split': 5}\n",
      "Best score:  0.7292105263157895\n",
      "Decision tree classifier train accuracy for classifying 1 to 2 stars and 3 to 5 stars : 0.888\n",
      "Decision tree classifier test accuracy for classifying 1 to 2 stars and 3 to 5 stars : 0.7113\n"
     ]
    }
   ],
   "source": [
    "result_12_345 = sklearn_dt_gs(df_12_345)\n",
    "print(\"Decision tree classifier train accuracy for classifying 1 to 2 stars and 3 to 5 stars :\", result_12_345[0])\n",
    "print(\"Decision tree classifier test accuracy for classifying 1 to 2 stars and 3 to 5 stars :\", result_12_345[1])"
   ]
  },
  {
   "cell_type": "code",
   "execution_count": 8,
   "metadata": {},
   "outputs": [
    {
     "name": "stdout",
     "output_type": "stream",
     "text": [
      "Best parameters:  {'max_depth': 20, 'min_samples_leaf': 1, 'min_samples_split': 2}\n",
      "Best score:  0.7731907894736841\n",
      "Decision tree classifier train accuracy for classifying 1 to 2 stars and 4 to 5 stars : 0.9348\n",
      "Decision tree classifier test accuracy for classifying 1 to 2 stars and 4 to 5 stars : 0.7816\n"
     ]
    }
   ],
   "source": [
    "result_12_45 = sklearn_dt_gs(df_12_45)\n",
    "print(\"Decision tree classifier train accuracy for classifying 1 to 2 stars and 4 to 5 stars :\", result_12_45[0])\n",
    "print(\"Decision tree classifier test accuracy for classifying 1 to 2 stars and 4 to 5 stars :\", result_12_45[1])"
   ]
  },
  {
   "cell_type": "code",
   "execution_count": 9,
   "metadata": {},
   "outputs": [
    {
     "name": "stdout",
     "output_type": "stream",
     "text": [
      "Best parameters:  {'max_depth': 20, 'min_samples_leaf': 1, 'min_samples_split': 2}\n",
      "Best score:  0.8452272727272728\n",
      "Decision tree classifier train accuracy for classifying 1 star and 5 stars : 0.9532\n",
      "Decision tree classifier test accuracy for classifying 1 star and 5 stars : 0.8555\n"
     ]
    }
   ],
   "source": [
    "result_1_5 = sklearn_dt_gs(df_1_5)\n",
    "print(\"Decision tree classifier train accuracy for classifying 1 star and 5 stars :\", result_1_5[0])\n",
    "print(\"Decision tree classifier test accuracy for classifying 1 star and 5 stars :\", result_1_5[1])"
   ]
  }
 ],
 "metadata": {
  "kernelspec": {
   "display_name": "Python 3",
   "language": "python",
   "name": "python3"
  },
  "language_info": {
   "codemirror_mode": {
    "name": "ipython",
    "version": 3
   },
   "file_extension": ".py",
   "mimetype": "text/x-python",
   "name": "python",
   "nbconvert_exporter": "python",
   "pygments_lexer": "ipython3",
   "version": "3.8.5"
  }
 },
 "nbformat": 4,
 "nbformat_minor": 4
}
