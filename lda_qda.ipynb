{
 "cells": [
  {
   "cell_type": "code",
   "execution_count": 64,
   "metadata": {},
   "outputs": [],
   "source": [
    "import pandas as pd\n",
    "from sklearn.discriminant_analysis import LinearDiscriminantAnalysis, QuadraticDiscriminantAnalysis\n",
    "from sklearn.feature_extraction.text import TfidfVectorizer\n",
    "from sklearn.feature_selection import f_classif, SelectKBest\n",
    "from sklearn.model_selection import train_test_split"
   ]
  },
  {
   "cell_type": "code",
   "execution_count": 9,
   "metadata": {},
   "outputs": [
    {
     "data": {
      "text/html": [
       "<div>\n",
       "<style scoped>\n",
       "    .dataframe tbody tr th:only-of-type {\n",
       "        vertical-align: middle;\n",
       "    }\n",
       "\n",
       "    .dataframe tbody tr th {\n",
       "        vertical-align: top;\n",
       "    }\n",
       "\n",
       "    .dataframe thead th {\n",
       "        text-align: right;\n",
       "    }\n",
       "</style>\n",
       "<table border=\"1\" class=\"dataframe\">\n",
       "  <thead>\n",
       "    <tr style=\"text-align: right;\">\n",
       "      <th></th>\n",
       "      <th>review_id</th>\n",
       "      <th>user_id</th>\n",
       "      <th>business_id</th>\n",
       "      <th>stars</th>\n",
       "      <th>useful</th>\n",
       "      <th>funny</th>\n",
       "      <th>cool</th>\n",
       "      <th>text</th>\n",
       "      <th>date</th>\n",
       "    </tr>\n",
       "  </thead>\n",
       "  <tbody>\n",
       "    <tr>\n",
       "      <th>0</th>\n",
       "      <td>oUVfM9ua2UtJ68sHKgCvNA</td>\n",
       "      <td>-YzMXeOVQfWAVXNAtMSbyw</td>\n",
       "      <td>dnQMntrmickWGYLB30KBEQ</td>\n",
       "      <td>4</td>\n",
       "      <td>0</td>\n",
       "      <td>0</td>\n",
       "      <td>0</td>\n",
       "      <td>Coffee is VERY good. My breakfast was a welcom...</td>\n",
       "      <td>2014-07-16 13:01:33</td>\n",
       "    </tr>\n",
       "    <tr>\n",
       "      <th>1</th>\n",
       "      <td>E7QcmW1jmB6T3HkSMdLGDA</td>\n",
       "      <td>jLNR8Tsvi47ENvoNfVYKiQ</td>\n",
       "      <td>4GGhj7Z99E5IYWdEqOsLUQ</td>\n",
       "      <td>5</td>\n",
       "      <td>0</td>\n",
       "      <td>0</td>\n",
       "      <td>0</td>\n",
       "      <td>I've been coming to this place for 18 years, a...</td>\n",
       "      <td>2019-04-16 20:17:17</td>\n",
       "    </tr>\n",
       "    <tr>\n",
       "      <th>2</th>\n",
       "      <td>GgGLzyl408biArY9oLGbRQ</td>\n",
       "      <td>392lRckiPvP-xTZ10E5RPw</td>\n",
       "      <td>c3QxX3toWdqJnKQmmIliRQ</td>\n",
       "      <td>2</td>\n",
       "      <td>0</td>\n",
       "      <td>0</td>\n",
       "      <td>0</td>\n",
       "      <td>This place is a bit overrated. It is very tren...</td>\n",
       "      <td>2021-05-02 23:53:15</td>\n",
       "    </tr>\n",
       "    <tr>\n",
       "      <th>3</th>\n",
       "      <td>B-EtTJZH45iCGWDNU36-1Q</td>\n",
       "      <td>OIa6ptM1qUts5arovQUAFQ</td>\n",
       "      <td>-QI8Qi8XWH3D8y8ethnajA</td>\n",
       "      <td>2</td>\n",
       "      <td>6</td>\n",
       "      <td>1</td>\n",
       "      <td>2</td>\n",
       "      <td>This is an older airport, and it reminded me a...</td>\n",
       "      <td>2018-04-13 15:51:03</td>\n",
       "    </tr>\n",
       "    <tr>\n",
       "      <th>4</th>\n",
       "      <td>RJb-x897_abr1CZDYiB1Xw</td>\n",
       "      <td>fwOETgbWmBAhdO9058e4Zg</td>\n",
       "      <td>C5ZOzlslhMxRJDjBDV3KoQ</td>\n",
       "      <td>5</td>\n",
       "      <td>0</td>\n",
       "      <td>0</td>\n",
       "      <td>0</td>\n",
       "      <td>Awesome. One of my favorites.  They have less ...</td>\n",
       "      <td>2016-03-27 18:29:16</td>\n",
       "    </tr>\n",
       "  </tbody>\n",
       "</table>\n",
       "</div>"
      ],
      "text/plain": [
       "                review_id                 user_id             business_id  \\\n",
       "0  oUVfM9ua2UtJ68sHKgCvNA  -YzMXeOVQfWAVXNAtMSbyw  dnQMntrmickWGYLB30KBEQ   \n",
       "1  E7QcmW1jmB6T3HkSMdLGDA  jLNR8Tsvi47ENvoNfVYKiQ  4GGhj7Z99E5IYWdEqOsLUQ   \n",
       "2  GgGLzyl408biArY9oLGbRQ  392lRckiPvP-xTZ10E5RPw  c3QxX3toWdqJnKQmmIliRQ   \n",
       "3  B-EtTJZH45iCGWDNU36-1Q  OIa6ptM1qUts5arovQUAFQ  -QI8Qi8XWH3D8y8ethnajA   \n",
       "4  RJb-x897_abr1CZDYiB1Xw  fwOETgbWmBAhdO9058e4Zg  C5ZOzlslhMxRJDjBDV3KoQ   \n",
       "\n",
       "   stars  useful  funny  cool  \\\n",
       "0      4       0      0     0   \n",
       "1      5       0      0     0   \n",
       "2      2       0      0     0   \n",
       "3      2       6      1     2   \n",
       "4      5       0      0     0   \n",
       "\n",
       "                                                text                date  \n",
       "0  Coffee is VERY good. My breakfast was a welcom... 2014-07-16 13:01:33  \n",
       "1  I've been coming to this place for 18 years, a... 2019-04-16 20:17:17  \n",
       "2  This place is a bit overrated. It is very tren... 2021-05-02 23:53:15  \n",
       "3  This is an older airport, and it reminded me a... 2018-04-13 15:51:03  \n",
       "4  Awesome. One of my favorites.  They have less ... 2016-03-27 18:29:16  "
      ]
     },
     "execution_count": 9,
     "metadata": {},
     "output_type": "execute_result"
    }
   ],
   "source": [
    "df = pd.read_json('yelp_academic_dataset_review_50k.json', lines=True)\n",
    "df.head()"
   ]
  },
  {
   "cell_type": "code",
   "execution_count": 10,
   "metadata": {},
   "outputs": [],
   "source": [
    "def build_subset(df, y, classes, distributions):\n",
    "    if len(classes) != len(distributions):\n",
    "        raise Exception('classes and distributions must be same length')\n",
    "    \n",
    "    dfs = []\n",
    "    for i in range(len(classes)):\n",
    "        dfs.append(df.loc[df[y] == classes[i]].sample(n=distributions[i]))\n",
    "\n",
    "    return pd.concat(dfs)"
   ]
  },
  {
   "cell_type": "code",
   "execution_count": 45,
   "metadata": {},
   "outputs": [],
   "source": [
    "df_12_345 = build_subset(df, 'stars', [1, 2, 3, 4, 5], [2500, 2500, 2500, 2500, 2500]) # make a dataset with all 5 star ratings, pulling 3800 samples from each rating\n",
    "df_12_45 = build_subset(df, 'stars', [1, 2, 4, 5], [2500, 2500, 2500, 2500]) # make a dataset only considering 1, 2, 4, 5 star ratings\n",
    "df_1_5 = build_subset(df, 'stars', [1, 5], [4000, 4000]) # make a dataset only considering 1 and 5 star ratings"
   ]
  },
  {
   "cell_type": "code",
   "execution_count": 43,
   "metadata": {},
   "outputs": [],
   "source": [
    "def ldaClassifier(df):    \n",
    "    X = df[['text']]\n",
    "    y = df['stars'].replace([1, 2],0).replace([3, 4, 5], 1)\n",
    "    X_train, X_test, y_train, y_test = train_test_split(\n",
    "        X, y, test_size=0.2, random_state=1)\n",
    "\n",
    "    tfidf_vectorizer = TfidfVectorizer()\n",
    "    X_train_tfidf = tfidf_vectorizer.fit_transform(X_train.text).toarray()\n",
    "    X_test_tfidf = tfidf_vectorizer.transform(X_test.text).toarray()\n",
    "\n",
    "    lda = LinearDiscriminantAnalysis(solver='svd')\n",
    "    lda.fit(X_train_tfidf, y_train)\n",
    "    lda_train_accuracy = lda.score(X_train_tfidf, y_train)\n",
    "    lda_test_accuracy = lda.score(X_test_tfidf, y_test)\n",
    "    return (round(lda_train_accuracy, 4), round(lda_test_accuracy, 4))"
   ]
  },
  {
   "cell_type": "code",
   "execution_count": 46,
   "metadata": {},
   "outputs": [
    {
     "name": "stdout",
     "output_type": "stream",
     "text": [
      "LDA train accuracy for classifying 1 to 2 stars and 3 to 5 stars : 0.9865\n",
      "LDA test accuracy for classifying 1 to 2 stars and 3 to 5 stars : 0.6628\n"
     ]
    }
   ],
   "source": [
    "result_12_345 = ldaClassifier(df_12_345)\n",
    "print(\"LDA train accuracy for classifying 1 to 2 stars and 3 to 5 stars :\", result_12_345[0])\n",
    "print(\"LDA test accuracy for classifying 1 to 2 stars and 3 to 5 stars :\", result_12_345[1])"
   ]
  },
  {
   "cell_type": "code",
   "execution_count": 17,
   "metadata": {},
   "outputs": [
    {
     "name": "stdout",
     "output_type": "stream",
     "text": [
      "LDA train accuracy for classifying 1 to 2 stars and 4 to 5 stars : 0.9818\n",
      "LDA test accuracy for classifying 1 to 2 stars and 4 to 5 stars : 0.7295\n"
     ]
    }
   ],
   "source": [
    "result_12_45 = ldaClassifier(df_12_45)\n",
    "print(\"LDA train accuracy for classifying 1 to 2 stars and 4 to 5 stars :\", result_12_45[0])\n",
    "print(\"LDA test accuracy for classifying 1 to 2 stars and 4 to 5 stars :\", result_12_45[1])"
   ]
  },
  {
   "cell_type": "code",
   "execution_count": 13,
   "metadata": {},
   "outputs": [
    {
     "name": "stdout",
     "output_type": "stream",
     "text": [
      "LDA train accuracy for classifying 1 star and 5 stars : 0.9931\n",
      "LDA test accuracy for classifying 1 star and 5 stars : 0.7238\n"
     ]
    }
   ],
   "source": [
    "result_1_5 = ldaClassifier(df_1_5)\n",
    "print(\"LDA train accuracy for classifying 1 star and 5 stars :\", result_1_5[0])\n",
    "print(\"LDA test accuracy for classifying 1 star and 5 stars :\", result_1_5[1])"
   ]
  },
  {
   "cell_type": "code",
   "execution_count": 48,
   "metadata": {},
   "outputs": [],
   "source": [
    "df_12_345 = build_subset(df, 'stars', [1, 2, 3, 4, 5], [3800, 3800, 3800, 3800, 3800]) # make a dataset with all 5 star ratings, pulling 3800 samples from each rating\n",
    "df_12_45 = build_subset(df, 'stars', [1, 2, 4, 5], [3800, 3800, 3800, 3800]) # make a dataset only considering 1, 2, 4, 5 star ratings\n",
    "df_1_5 = build_subset(df, 'stars', [1, 5], [5500, 5500]) # make a dataset only considering 1 and 5 star ratings"
   ]
  },
  {
   "cell_type": "code",
   "execution_count": 65,
   "metadata": {},
   "outputs": [],
   "source": [
    "def qdaClassifier(df):    \n",
    "    X = df[['text']]\n",
    "    y = df['stars'].replace([1, 2],0).replace([3, 4, 5], 1)\n",
    "    X_train, X_test, y_train, y_test = train_test_split(\n",
    "        X, y, test_size=0.2, random_state=1)\n",
    "\n",
    "    tfidf_vectorizer = TfidfVectorizer()\n",
    "    X_train_tfidf = tfidf_vectorizer.fit_transform(X_train.text)\n",
    "    X_test_tfidf = tfidf_vectorizer.transform(X_test.text)\n",
    "\n",
    "    k_values = [10, 50, 100, 150, 200, 250]\n",
    "    best_k = 0\n",
    "    best_test_accuracy = -float('inf')\n",
    "    best_train_accuracy = -float('inf')\n",
    "    for k in k_values:\n",
    "        selector = SelectKBest(score_func=f_classif, k=k)\n",
    "        X_train_selector = selector.fit_transform(X_train_tfidf, y_train).toarray()\n",
    "        X_test_selector = selector.transform(X_test_tfidf).toarray()\n",
    "\n",
    "        qda = QuadraticDiscriminantAnalysis()\n",
    "        qda.fit(X_train_selector, y_train)\n",
    "        qda_train_accuracy = qda.score(X_train_selector, y_train)\n",
    "        qda_test_accuracy = qda.score(X_test_selector, y_test)\n",
    "\n",
    "        if qda_test_accuracy > best_test_accuracy:\n",
    "            best_k = k\n",
    "            best_test_accuracy = qda_test_accuracy\n",
    "            best_train_accuracy = qda_train_accuracy\n",
    "    return (best_k, round(best_train_accuracy, 4), round(best_test_accuracy, 4))"
   ]
  },
  {
   "cell_type": "code",
   "execution_count": 61,
   "metadata": {},
   "outputs": [
    {
     "name": "stdout",
     "output_type": "stream",
     "text": [
      "Optimal number of best features : k = 250\n",
      "QDA train accuracy for classifying 1 to 2 stars and 3 to 5 stars : 0.818\n",
      "QDA test accuracy for classifying 1 to 2 stars and 3 to 5 stars : 0.7987\n"
     ]
    }
   ],
   "source": [
    "result_12_345 = qdaClassifier(df_12_345)\n",
    "print(\"Optimal number of best features : k =\", result_12_345[0])\n",
    "print(\"QDA train accuracy for classifying 1 to 2 stars and 3 to 5 stars :\", result_12_345[1])\n",
    "print(\"QDA test accuracy for classifying 1 to 2 stars and 3 to 5 stars :\", result_12_345[2])"
   ]
  },
  {
   "cell_type": "code",
   "execution_count": 62,
   "metadata": {},
   "outputs": [
    {
     "name": "stdout",
     "output_type": "stream",
     "text": [
      "Optimal number of best features : k = 200\n",
      "QDA train accuracy for classifying 1 to 2 stars and 4 to 5 stars : 0.8646\n",
      "QDA test accuracy for classifying 1 to 2 stars and 4 to 5 stars : 0.8661\n"
     ]
    }
   ],
   "source": [
    "result_12_45 = qdaClassifier(df_12_45)\n",
    "print(\"Optimal number of best features : k =\", result_12_45[0])\n",
    "print(\"QDA train accuracy for classifying 1 to 2 stars and 4 to 5 stars :\", result_12_45[1])\n",
    "print(\"QDA test accuracy for classifying 1 to 2 stars and 4 to 5 stars :\", result_12_45[2])"
   ]
  },
  {
   "cell_type": "code",
   "execution_count": 63,
   "metadata": {},
   "outputs": [
    {
     "name": "stdout",
     "output_type": "stream",
     "text": [
      "Optimal number of best features : k = 250\n",
      "QDA train accuracy for classifying 1 star and 5 stars : 0.9266\n",
      "QDA test accuracy for classifying 1 star and 5 stars : 0.9023\n"
     ]
    }
   ],
   "source": [
    "result_1_5 = qdaClassifier(df_1_5)\n",
    "print(\"Optimal number of best features : k =\", result_1_5[0])\n",
    "print(\"QDA train accuracy for classifying 1 star and 5 stars :\", result_1_5[1])\n",
    "print(\"QDA test accuracy for classifying 1 star and 5 stars :\", result_1_5[2])"
   ]
  }
 ],
 "metadata": {
  "kernelspec": {
   "display_name": "my_env",
   "language": "python",
   "name": "python3"
  },
  "language_info": {
   "codemirror_mode": {
    "name": "ipython",
    "version": 3
   },
   "file_extension": ".py",
   "mimetype": "text/x-python",
   "name": "python",
   "nbconvert_exporter": "python",
   "pygments_lexer": "ipython3",
   "version": "3.10.10"
  },
  "orig_nbformat": 4
 },
 "nbformat": 4,
 "nbformat_minor": 2
}
